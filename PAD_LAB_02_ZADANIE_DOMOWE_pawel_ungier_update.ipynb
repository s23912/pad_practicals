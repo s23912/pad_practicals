{
  "nbformat": 4,
  "nbformat_minor": 0,
  "metadata": {
    "colab": {
      "name": "PAD_LAB_02_ZADANIE_DOMOWE_pawel_ungier_update.ipynb",
      "provenance": [],
      "collapsed_sections": [],
      "include_colab_link": true
    },
    "kernelspec": {
      "name": "python3",
      "display_name": "Python 3"
    },
    "language_info": {
      "name": "python"
    }
  },
  "cells": [
    {
      "cell_type": "markdown",
      "metadata": {
        "id": "view-in-github",
        "colab_type": "text"
      },
      "source": [
        "<a href=\"https://colab.research.google.com/github/s23912/pad_practicals/blob/main/PAD_LAB_02_ZADANIE_DOMOWE_pawel_ungier_update.ipynb\" target=\"_parent\"><img src=\"https://colab.research.google.com/assets/colab-badge.svg\" alt=\"Open In Colab\"/></a>"
      ]
    },
    {
      "cell_type": "code",
      "metadata": {
        "id": "jxLRPOLTiYA3"
      },
      "source": [
        "#Pawel Ungier [s23912] \n",
        "#Zadanie domowe PAD_LAB_02"
      ],
      "execution_count": null,
      "outputs": []
    },
    {
      "cell_type": "code",
      "metadata": {
        "colab": {
          "base_uri": "https://localhost:8080/",
          "height": 203
        },
        "id": "Fc2RWc8gV9qY",
        "outputId": "aae2dddc-cd32-427d-c6b8-c536c33f64d4"
      },
      "source": [
        "# PRESTEPS (import, usuwanie wartości na )\n",
        "import pandas as pd\n",
        "path = '/content/drive/MyDrive/DS/PAD/PAD_02/ZADANIE_DOMOWE/PAD_02_PD.csv'\n",
        "df = pd.read_csv(path, sep=';') #importing\n",
        "df.head()"
      ],
      "execution_count": null,
      "outputs": [
        {
          "output_type": "execute_result",
          "data": {
            "text/html": [
              "<div>\n",
              "<style scoped>\n",
              "    .dataframe tbody tr th:only-of-type {\n",
              "        vertical-align: middle;\n",
              "    }\n",
              "\n",
              "    .dataframe tbody tr th {\n",
              "        vertical-align: top;\n",
              "    }\n",
              "\n",
              "    .dataframe thead th {\n",
              "        text-align: right;\n",
              "    }\n",
              "</style>\n",
              "<table border=\"1\" class=\"dataframe\">\n",
              "  <thead>\n",
              "    <tr style=\"text-align: right;\">\n",
              "      <th></th>\n",
              "      <th>ID</th>\n",
              "      <th>Country</th>\n",
              "      <th>owns_car</th>\n",
              "      <th>owns_TV</th>\n",
              "      <th>owns_house</th>\n",
              "      <th>owns_Phone</th>\n",
              "      <th>gender</th>\n",
              "      <th>Age</th>\n",
              "    </tr>\n",
              "  </thead>\n",
              "  <tbody>\n",
              "    <tr>\n",
              "      <th>0</th>\n",
              "      <td>1</td>\n",
              "      <td>A</td>\n",
              "      <td>0.0</td>\n",
              "      <td>0.0</td>\n",
              "      <td>0.0</td>\n",
              "      <td>1</td>\n",
              "      <td>M</td>\n",
              "      <td>61</td>\n",
              "    </tr>\n",
              "    <tr>\n",
              "      <th>1</th>\n",
              "      <td>2</td>\n",
              "      <td>B</td>\n",
              "      <td>0.0</td>\n",
              "      <td>0.0</td>\n",
              "      <td>0.0</td>\n",
              "      <td>1</td>\n",
              "      <td>M</td>\n",
              "      <td>44</td>\n",
              "    </tr>\n",
              "    <tr>\n",
              "      <th>2</th>\n",
              "      <td>3</td>\n",
              "      <td>A</td>\n",
              "      <td>0.0</td>\n",
              "      <td>0.0</td>\n",
              "      <td>0.0</td>\n",
              "      <td>1</td>\n",
              "      <td>M</td>\n",
              "      <td>56</td>\n",
              "    </tr>\n",
              "    <tr>\n",
              "      <th>3</th>\n",
              "      <td>4</td>\n",
              "      <td>A</td>\n",
              "      <td>0.0</td>\n",
              "      <td>0.0</td>\n",
              "      <td>0.0</td>\n",
              "      <td>1</td>\n",
              "      <td>M</td>\n",
              "      <td>53</td>\n",
              "    </tr>\n",
              "    <tr>\n",
              "      <th>4</th>\n",
              "      <td>5</td>\n",
              "      <td>C</td>\n",
              "      <td>1.0</td>\n",
              "      <td>1.0</td>\n",
              "      <td>0.0</td>\n",
              "      <td>1</td>\n",
              "      <td>K</td>\n",
              "      <td>60</td>\n",
              "    </tr>\n",
              "  </tbody>\n",
              "</table>\n",
              "</div>"
            ],
            "text/plain": [
              "   ID Country  owns_car  owns_TV  owns_house  owns_Phone gender  Age\n",
              "0   1       A       0.0      0.0         0.0           1      M   61\n",
              "1   2       B       0.0      0.0         0.0           1      M   44\n",
              "2   3       A       0.0      0.0         0.0           1      M   56\n",
              "3   4       A       0.0      0.0         0.0           1      M   53\n",
              "4   5       C       1.0      1.0         0.0           1      K   60"
            ]
          },
          "metadata": {},
          "execution_count": 2
        }
      ]
    },
    {
      "cell_type": "code",
      "metadata": {
        "colab": {
          "base_uri": "https://localhost:8080/"
        },
        "id": "6seKOZsTfH4l",
        "outputId": "b0050e38-5031-4ad1-e3e5-72f3bb836018"
      },
      "source": [
        "#Preparation of data (usuwanie wartości na )\n",
        "print('All not complete rows: ',df.isnull().any(axis = 1).sum()) #sprawdzamy ile jest wartości na"
      ],
      "execution_count": null,
      "outputs": [
        {
          "output_type": "stream",
          "name": "stdout",
          "text": [
            "All not complete rows:  22\n"
          ]
        }
      ]
    },
    {
      "cell_type": "code",
      "metadata": {
        "colab": {
          "base_uri": "https://localhost:8080/"
        },
        "id": "4S5Tk-IEfXqq",
        "outputId": "ce6c5a04-5028-4045-a23d-638525586831"
      },
      "source": [
        "#Missing data - sprawdzamy jakich wartości brakuje\n",
        "print('Missing ID :',df['ID'].isnull().sum())\n",
        "print('Missing Country :',df['Country'].isnull().sum())\n",
        "print('Missing cars :',df['owns_car'].isnull().sum())\n",
        "print('Missing TV:',df['owns_TV'].isnull().sum())\n",
        "print('Missing houses :',df['owns_house'].isnull().sum())\n",
        "print('Missing phones:',df['owns_Phone'].isnull().sum())\n",
        "print('Missing gender:',df['gender'].isnull().sum())\n",
        "print('Missing age:',df['Age'].isnull().sum())"
      ],
      "execution_count": null,
      "outputs": [
        {
          "output_type": "stream",
          "name": "stdout",
          "text": [
            "Missing ID : 0\n",
            "Missing Country : 7\n",
            "Missing cars : 2\n",
            "Missing TV: 2\n",
            "Missing houses : 6\n",
            "Missing phones: 0\n",
            "Missing gender: 5\n",
            "Missing age: 0\n"
          ]
        }
      ]
    },
    {
      "cell_type": "code",
      "metadata": {
        "colab": {
          "base_uri": "https://localhost:8080/",
          "height": 726
        },
        "id": "DXszYa8PgAYV",
        "outputId": "f7476d00-8d61-4502-edd7-5d1ed8de5def"
      },
      "source": [
        "#All rows with missing data to remove \n",
        "df[df.isnull().any(axis = 1)] # podglądamy jakich wartości brakuje"
      ],
      "execution_count": null,
      "outputs": [
        {
          "output_type": "execute_result",
          "data": {
            "text/html": [
              "<div>\n",
              "<style scoped>\n",
              "    .dataframe tbody tr th:only-of-type {\n",
              "        vertical-align: middle;\n",
              "    }\n",
              "\n",
              "    .dataframe tbody tr th {\n",
              "        vertical-align: top;\n",
              "    }\n",
              "\n",
              "    .dataframe thead th {\n",
              "        text-align: right;\n",
              "    }\n",
              "</style>\n",
              "<table border=\"1\" class=\"dataframe\">\n",
              "  <thead>\n",
              "    <tr style=\"text-align: right;\">\n",
              "      <th></th>\n",
              "      <th>ID</th>\n",
              "      <th>Country</th>\n",
              "      <th>owns_car</th>\n",
              "      <th>owns_TV</th>\n",
              "      <th>owns_house</th>\n",
              "      <th>owns_Phone</th>\n",
              "      <th>gender</th>\n",
              "      <th>Age</th>\n",
              "    </tr>\n",
              "  </thead>\n",
              "  <tbody>\n",
              "    <tr>\n",
              "      <th>31</th>\n",
              "      <td>32</td>\n",
              "      <td>C</td>\n",
              "      <td>1.0</td>\n",
              "      <td>1.0</td>\n",
              "      <td>1.0</td>\n",
              "      <td>1</td>\n",
              "      <td>NaN</td>\n",
              "      <td>60</td>\n",
              "    </tr>\n",
              "    <tr>\n",
              "      <th>50</th>\n",
              "      <td>51</td>\n",
              "      <td>A</td>\n",
              "      <td>0.0</td>\n",
              "      <td>NaN</td>\n",
              "      <td>0.0</td>\n",
              "      <td>1</td>\n",
              "      <td>M</td>\n",
              "      <td>37</td>\n",
              "    </tr>\n",
              "    <tr>\n",
              "      <th>72</th>\n",
              "      <td>73</td>\n",
              "      <td>A</td>\n",
              "      <td>NaN</td>\n",
              "      <td>0.0</td>\n",
              "      <td>0.0</td>\n",
              "      <td>1</td>\n",
              "      <td>M</td>\n",
              "      <td>45</td>\n",
              "    </tr>\n",
              "    <tr>\n",
              "      <th>75</th>\n",
              "      <td>76</td>\n",
              "      <td>B</td>\n",
              "      <td>0.0</td>\n",
              "      <td>0.0</td>\n",
              "      <td>NaN</td>\n",
              "      <td>1</td>\n",
              "      <td>M</td>\n",
              "      <td>39</td>\n",
              "    </tr>\n",
              "    <tr>\n",
              "      <th>106</th>\n",
              "      <td>107</td>\n",
              "      <td>B</td>\n",
              "      <td>0.0</td>\n",
              "      <td>0.0</td>\n",
              "      <td>NaN</td>\n",
              "      <td>1</td>\n",
              "      <td>M</td>\n",
              "      <td>36</td>\n",
              "    </tr>\n",
              "    <tr>\n",
              "      <th>128</th>\n",
              "      <td>129</td>\n",
              "      <td>A</td>\n",
              "      <td>0.0</td>\n",
              "      <td>0.0</td>\n",
              "      <td>NaN</td>\n",
              "      <td>1</td>\n",
              "      <td>M</td>\n",
              "      <td>66</td>\n",
              "    </tr>\n",
              "    <tr>\n",
              "      <th>155</th>\n",
              "      <td>156</td>\n",
              "      <td>C</td>\n",
              "      <td>1.0</td>\n",
              "      <td>1.0</td>\n",
              "      <td>NaN</td>\n",
              "      <td>1</td>\n",
              "      <td>K</td>\n",
              "      <td>27</td>\n",
              "    </tr>\n",
              "    <tr>\n",
              "      <th>174</th>\n",
              "      <td>175</td>\n",
              "      <td>A</td>\n",
              "      <td>0.0</td>\n",
              "      <td>0.0</td>\n",
              "      <td>0.0</td>\n",
              "      <td>1</td>\n",
              "      <td>NaN</td>\n",
              "      <td>64</td>\n",
              "    </tr>\n",
              "    <tr>\n",
              "      <th>176</th>\n",
              "      <td>177</td>\n",
              "      <td>C</td>\n",
              "      <td>0.0</td>\n",
              "      <td>1.0</td>\n",
              "      <td>NaN</td>\n",
              "      <td>1</td>\n",
              "      <td>K</td>\n",
              "      <td>49</td>\n",
              "    </tr>\n",
              "    <tr>\n",
              "      <th>199</th>\n",
              "      <td>200</td>\n",
              "      <td>A</td>\n",
              "      <td>0.0</td>\n",
              "      <td>0.0</td>\n",
              "      <td>0.0</td>\n",
              "      <td>1</td>\n",
              "      <td>NaN</td>\n",
              "      <td>59</td>\n",
              "    </tr>\n",
              "    <tr>\n",
              "      <th>240</th>\n",
              "      <td>241</td>\n",
              "      <td>B</td>\n",
              "      <td>0.0</td>\n",
              "      <td>1.0</td>\n",
              "      <td>0.0</td>\n",
              "      <td>1</td>\n",
              "      <td>NaN</td>\n",
              "      <td>51</td>\n",
              "    </tr>\n",
              "    <tr>\n",
              "      <th>278</th>\n",
              "      <td>279</td>\n",
              "      <td>NaN</td>\n",
              "      <td>0.0</td>\n",
              "      <td>1.0</td>\n",
              "      <td>0.0</td>\n",
              "      <td>1</td>\n",
              "      <td>K</td>\n",
              "      <td>24</td>\n",
              "    </tr>\n",
              "    <tr>\n",
              "      <th>279</th>\n",
              "      <td>280</td>\n",
              "      <td>NaN</td>\n",
              "      <td>0.0</td>\n",
              "      <td>0.0</td>\n",
              "      <td>0.0</td>\n",
              "      <td>1</td>\n",
              "      <td>M</td>\n",
              "      <td>33</td>\n",
              "    </tr>\n",
              "    <tr>\n",
              "      <th>280</th>\n",
              "      <td>281</td>\n",
              "      <td>NaN</td>\n",
              "      <td>0.0</td>\n",
              "      <td>0.0</td>\n",
              "      <td>0.0</td>\n",
              "      <td>1</td>\n",
              "      <td>M</td>\n",
              "      <td>45</td>\n",
              "    </tr>\n",
              "    <tr>\n",
              "      <th>281</th>\n",
              "      <td>282</td>\n",
              "      <td>NaN</td>\n",
              "      <td>0.0</td>\n",
              "      <td>0.0</td>\n",
              "      <td>0.0</td>\n",
              "      <td>1</td>\n",
              "      <td>M</td>\n",
              "      <td>51</td>\n",
              "    </tr>\n",
              "    <tr>\n",
              "      <th>282</th>\n",
              "      <td>283</td>\n",
              "      <td>NaN</td>\n",
              "      <td>0.0</td>\n",
              "      <td>0.0</td>\n",
              "      <td>0.0</td>\n",
              "      <td>1</td>\n",
              "      <td>M</td>\n",
              "      <td>60</td>\n",
              "    </tr>\n",
              "    <tr>\n",
              "      <th>283</th>\n",
              "      <td>284</td>\n",
              "      <td>NaN</td>\n",
              "      <td>0.0</td>\n",
              "      <td>0.0</td>\n",
              "      <td>0.0</td>\n",
              "      <td>1</td>\n",
              "      <td>M</td>\n",
              "      <td>64</td>\n",
              "    </tr>\n",
              "    <tr>\n",
              "      <th>284</th>\n",
              "      <td>285</td>\n",
              "      <td>NaN</td>\n",
              "      <td>0.0</td>\n",
              "      <td>0.0</td>\n",
              "      <td>0.0</td>\n",
              "      <td>1</td>\n",
              "      <td>M</td>\n",
              "      <td>19</td>\n",
              "    </tr>\n",
              "    <tr>\n",
              "      <th>335</th>\n",
              "      <td>336</td>\n",
              "      <td>B</td>\n",
              "      <td>0.0</td>\n",
              "      <td>0.0</td>\n",
              "      <td>NaN</td>\n",
              "      <td>1</td>\n",
              "      <td>M</td>\n",
              "      <td>67</td>\n",
              "    </tr>\n",
              "    <tr>\n",
              "      <th>337</th>\n",
              "      <td>338</td>\n",
              "      <td>C</td>\n",
              "      <td>NaN</td>\n",
              "      <td>1.0</td>\n",
              "      <td>0.0</td>\n",
              "      <td>1</td>\n",
              "      <td>K</td>\n",
              "      <td>34</td>\n",
              "    </tr>\n",
              "    <tr>\n",
              "      <th>358</th>\n",
              "      <td>359</td>\n",
              "      <td>C</td>\n",
              "      <td>1.0</td>\n",
              "      <td>1.0</td>\n",
              "      <td>0.0</td>\n",
              "      <td>1</td>\n",
              "      <td>NaN</td>\n",
              "      <td>45</td>\n",
              "    </tr>\n",
              "    <tr>\n",
              "      <th>361</th>\n",
              "      <td>362</td>\n",
              "      <td>B</td>\n",
              "      <td>0.0</td>\n",
              "      <td>NaN</td>\n",
              "      <td>0.0</td>\n",
              "      <td>1</td>\n",
              "      <td>M</td>\n",
              "      <td>30</td>\n",
              "    </tr>\n",
              "  </tbody>\n",
              "</table>\n",
              "</div>"
            ],
            "text/plain": [
              "      ID Country  owns_car  owns_TV  owns_house  owns_Phone gender  Age\n",
              "31    32       C       1.0      1.0         1.0           1    NaN   60\n",
              "50    51       A       0.0      NaN         0.0           1      M   37\n",
              "72    73       A       NaN      0.0         0.0           1      M   45\n",
              "75    76       B       0.0      0.0         NaN           1      M   39\n",
              "106  107       B       0.0      0.0         NaN           1      M   36\n",
              "128  129       A       0.0      0.0         NaN           1      M   66\n",
              "155  156       C       1.0      1.0         NaN           1      K   27\n",
              "174  175       A       0.0      0.0         0.0           1    NaN   64\n",
              "176  177       C       0.0      1.0         NaN           1      K   49\n",
              "199  200       A       0.0      0.0         0.0           1    NaN   59\n",
              "240  241       B       0.0      1.0         0.0           1    NaN   51\n",
              "278  279     NaN       0.0      1.0         0.0           1      K   24\n",
              "279  280     NaN       0.0      0.0         0.0           1      M   33\n",
              "280  281     NaN       0.0      0.0         0.0           1      M   45\n",
              "281  282     NaN       0.0      0.0         0.0           1      M   51\n",
              "282  283     NaN       0.0      0.0         0.0           1      M   60\n",
              "283  284     NaN       0.0      0.0         0.0           1      M   64\n",
              "284  285     NaN       0.0      0.0         0.0           1      M   19\n",
              "335  336       B       0.0      0.0         NaN           1      M   67\n",
              "337  338       C       NaN      1.0         0.0           1      K   34\n",
              "358  359       C       1.0      1.0         0.0           1    NaN   45\n",
              "361  362       B       0.0      NaN         0.0           1      M   30"
            ]
          },
          "metadata": {},
          "execution_count": 5
        }
      ]
    },
    {
      "cell_type": "code",
      "metadata": {
        "colab": {
          "base_uri": "https://localhost:8080/"
        },
        "id": "uBdGiEQkgAa9",
        "outputId": "df57af27-dad0-434c-fcd5-f713809ea536"
      },
      "source": [
        "#Usuwamy na\n",
        "print('ilość wierszy przed usunięciem na: ', len(df)) \n",
        "df = df.dropna()\n",
        "print('ilość wierszy po usunięciu na: ',len(df)) #powinno być o 22 mniej "
      ],
      "execution_count": null,
      "outputs": [
        {
          "output_type": "stream",
          "name": "stdout",
          "text": [
            "ilość wierszy przed usunięciem na:  800\n",
            "ilość wierszy po usunięciu na:  778\n"
          ]
        }
      ]
    },
    {
      "cell_type": "code",
      "metadata": {
        "id": "UzlIDmLViniS"
      },
      "source": [
        "#Zadanie 1: Wgraj plik DANE_PAD_02.csv jako ramkę danych. Oblicz liczebność każdej z wartości w zmiennej COUNTRY.\n",
        "# Wgranie ramki danych nastapiło już w fazie zerowej przy pracach nad usuwaniem wartości na"
      ],
      "execution_count": null,
      "outputs": []
    },
    {
      "cell_type": "code",
      "metadata": {
        "colab": {
          "base_uri": "https://localhost:8080/"
        },
        "id": "XM-158yfWn7d",
        "outputId": "1747ca7c-4d9a-4069-a34d-ed6d3f9bfff4"
      },
      "source": [
        "#Zadanie 1 - version1\n",
        "df['Country'].value_counts()"
      ],
      "execution_count": null,
      "outputs": [
        {
          "output_type": "execute_result",
          "data": {
            "text/plain": [
              "A    323\n",
              "B    196\n",
              "C    181\n",
              "D     78\n",
              "Name: Country, dtype: int64"
            ]
          },
          "metadata": {},
          "execution_count": 7
        }
      ]
    },
    {
      "cell_type": "code",
      "metadata": {
        "colab": {
          "base_uri": "https://localhost:8080/"
        },
        "id": "uXceQeS2btmJ",
        "outputId": "17d2e5b0-00f7-4903-faec-ada5c57696c1"
      },
      "source": [
        "#Zadanie 1 - version 2 - to samo zrealizowane za pomocą groupby\n",
        "print(df.groupby(by='Country')['Country'].count())"
      ],
      "execution_count": null,
      "outputs": [
        {
          "output_type": "stream",
          "name": "stdout",
          "text": [
            "Country\n",
            "A    323\n",
            "B    196\n",
            "C    181\n",
            "D     78\n",
            "Name: Country, dtype: int64\n"
          ]
        }
      ]
    },
    {
      "cell_type": "code",
      "metadata": {
        "colab": {
          "base_uri": "https://localhost:8080/",
          "height": 203
        },
        "id": "Ieey7lpNdFiP",
        "outputId": "6546d853-0390-46f6-bebd-767298db16f9"
      },
      "source": [
        "#Zadanie 2\n",
        "#Stwórz zmienną, która będzie informowała o liczbie posiadanych dóbr\n",
        "# czy zmienna to Seria danych(kolumna) sumująca wszystkie dobra czy zmienna to nowa Ramka Danych grupująca wszystkie dobra w obrębie kraju? \n",
        "#Pierwotnie zakładałem, że tą bedzie to kolumna informująca o sumie wszystkich dóbr bez grupowania po kraju\n",
        "#W tym wypadku przygotowałem wersje , która grupuje posiadane dobra w danym kraju\n",
        "\n",
        "tmp = pd.pivot_table(df,index='Country', values=['owns_car','owns_TV','owns_house','owns_Phone'])\n",
        "tmp # zobaczmy jak to bedzie wyglądać proporcjonalnie"
      ],
      "execution_count": null,
      "outputs": [
        {
          "output_type": "execute_result",
          "data": {
            "text/html": [
              "<div>\n",
              "<style scoped>\n",
              "    .dataframe tbody tr th:only-of-type {\n",
              "        vertical-align: middle;\n",
              "    }\n",
              "\n",
              "    .dataframe tbody tr th {\n",
              "        vertical-align: top;\n",
              "    }\n",
              "\n",
              "    .dataframe thead th {\n",
              "        text-align: right;\n",
              "    }\n",
              "</style>\n",
              "<table border=\"1\" class=\"dataframe\">\n",
              "  <thead>\n",
              "    <tr style=\"text-align: right;\">\n",
              "      <th></th>\n",
              "      <th>owns_Phone</th>\n",
              "      <th>owns_TV</th>\n",
              "      <th>owns_car</th>\n",
              "      <th>owns_house</th>\n",
              "    </tr>\n",
              "    <tr>\n",
              "      <th>Country</th>\n",
              "      <th></th>\n",
              "      <th></th>\n",
              "      <th></th>\n",
              "      <th></th>\n",
              "    </tr>\n",
              "  </thead>\n",
              "  <tbody>\n",
              "    <tr>\n",
              "      <th>A</th>\n",
              "      <td>0.860681</td>\n",
              "      <td>0.000000</td>\n",
              "      <td>0.000000</td>\n",
              "      <td>0.000000</td>\n",
              "    </tr>\n",
              "    <tr>\n",
              "      <th>B</th>\n",
              "      <td>1.000000</td>\n",
              "      <td>0.459184</td>\n",
              "      <td>0.000000</td>\n",
              "      <td>0.000000</td>\n",
              "    </tr>\n",
              "    <tr>\n",
              "      <th>C</th>\n",
              "      <td>1.000000</td>\n",
              "      <td>1.000000</td>\n",
              "      <td>0.585635</td>\n",
              "      <td>0.441989</td>\n",
              "    </tr>\n",
              "    <tr>\n",
              "      <th>D</th>\n",
              "      <td>1.000000</td>\n",
              "      <td>1.000000</td>\n",
              "      <td>1.000000</td>\n",
              "      <td>1.000000</td>\n",
              "    </tr>\n",
              "  </tbody>\n",
              "</table>\n",
              "</div>"
            ],
            "text/plain": [
              "         owns_Phone   owns_TV  owns_car  owns_house\n",
              "Country                                            \n",
              "A          0.860681  0.000000  0.000000    0.000000\n",
              "B          1.000000  0.459184  0.000000    0.000000\n",
              "C          1.000000  1.000000  0.585635    0.441989\n",
              "D          1.000000  1.000000  1.000000    1.000000"
            ]
          },
          "metadata": {},
          "execution_count": 9
        }
      ]
    },
    {
      "cell_type": "code",
      "metadata": {
        "colab": {
          "base_uri": "https://localhost:8080/",
          "height": 172
        },
        "id": "w8iBJ-F-VAf4",
        "outputId": "bef0d87f-e794-47bd-a509-eaa43c64e25b"
      },
      "source": [
        "#Właściwy wklad do Zadania nr 2\n",
        "A = df[df['Country']=='A'] #filtrujemy tylko wiersze dla kraju A\n",
        "A_Car = A[A['owns_car']==1]['owns_car'].count() #zliczamy samochody dla kraju A\n",
        "A_TV = A[A['owns_TV']==1]['owns_TV'].count() #zliczamy TV dla kraju A\n",
        "A_House = A[A['owns_house']==1]['owns_house'].count() #zliczamy domy dla kraju A\n",
        "A_Phone = A[A['owns_Phone']==1]['owns_Phone'].count() #zliczamy telefony dla kraju A\n",
        "\n",
        "#musimy użyc metodę count() a nie sum(). Metoda count zliczy ilość wierszy, metoda sum() zawartość wierszy\n",
        "\n",
        "B = df[df['Country']=='B'] #analogiczne działania dla B, itd\n",
        "B_Car = B[B['owns_car']==1]['owns_car'].count()\n",
        "B_TV = B[B['owns_TV']==1]['owns_TV'].count()\n",
        "B_House = B[B['owns_house']==1]['owns_house'].count()\n",
        "B_Phone = B[B['owns_Phone']==1]['owns_Phone'].count()\n",
        "\n",
        "C = df[df['Country']=='C']\n",
        "C_Car = C[C['owns_car']==1]['owns_car'].count()\n",
        "C_TV = C[C['owns_TV']==1]['owns_TV'].count()\n",
        "C_House = C[C['owns_house']==1]['owns_house'].count()\n",
        "C_Phone = C[C['owns_Phone']==1]['owns_Phone'].count()\n",
        "\n",
        "D = df[df['Country']=='D']\n",
        "D_Car = D[D['owns_car']==1]['owns_car'].count()\n",
        "D_TV = D[D['owns_TV']==1]['owns_TV'].count()\n",
        "D_House = D[D['owns_house']==1]['owns_house'].count()\n",
        "D_Phone = D[D['owns_Phone']==1]['owns_Phone'].count()\n",
        "\n",
        "country_index =['A','B','C','D']\n",
        "country_dic = {'owns_car':[A_Car, B_Car, C_Car, D_Car],\n",
        "               'owns_TV': [A_TV, B_TV, C_TV, D_TV],\n",
        "               'owns_House':[ A_House, B_House, C_House, D_House],\n",
        "               'owns_Phone': [A_Phone, B_Phone, C_Phone, D_Phone]}\n",
        "country_welth = pd.DataFrame(country_dic, country_index)\n",
        "country_welth "
      ],
      "execution_count": null,
      "outputs": [
        {
          "output_type": "execute_result",
          "data": {
            "text/html": [
              "<div>\n",
              "<style scoped>\n",
              "    .dataframe tbody tr th:only-of-type {\n",
              "        vertical-align: middle;\n",
              "    }\n",
              "\n",
              "    .dataframe tbody tr th {\n",
              "        vertical-align: top;\n",
              "    }\n",
              "\n",
              "    .dataframe thead th {\n",
              "        text-align: right;\n",
              "    }\n",
              "</style>\n",
              "<table border=\"1\" class=\"dataframe\">\n",
              "  <thead>\n",
              "    <tr style=\"text-align: right;\">\n",
              "      <th></th>\n",
              "      <th>owns_car</th>\n",
              "      <th>owns_TV</th>\n",
              "      <th>owns_House</th>\n",
              "      <th>owns_Phone</th>\n",
              "    </tr>\n",
              "  </thead>\n",
              "  <tbody>\n",
              "    <tr>\n",
              "      <th>A</th>\n",
              "      <td>0</td>\n",
              "      <td>0</td>\n",
              "      <td>0</td>\n",
              "      <td>278</td>\n",
              "    </tr>\n",
              "    <tr>\n",
              "      <th>B</th>\n",
              "      <td>0</td>\n",
              "      <td>90</td>\n",
              "      <td>0</td>\n",
              "      <td>196</td>\n",
              "    </tr>\n",
              "    <tr>\n",
              "      <th>C</th>\n",
              "      <td>106</td>\n",
              "      <td>181</td>\n",
              "      <td>80</td>\n",
              "      <td>181</td>\n",
              "    </tr>\n",
              "    <tr>\n",
              "      <th>D</th>\n",
              "      <td>78</td>\n",
              "      <td>78</td>\n",
              "      <td>78</td>\n",
              "      <td>78</td>\n",
              "    </tr>\n",
              "  </tbody>\n",
              "</table>\n",
              "</div>"
            ],
            "text/plain": [
              "   owns_car  owns_TV  owns_House  owns_Phone\n",
              "A         0        0           0         278\n",
              "B         0       90           0         196\n",
              "C       106      181          80         181\n",
              "D        78       78          78          78"
            ]
          },
          "metadata": {},
          "execution_count": 10
        }
      ]
    },
    {
      "cell_type": "code",
      "metadata": {
        "colab": {
          "base_uri": "https://localhost:8080/"
        },
        "id": "YwdOTBE9kakW",
        "outputId": "d3179772-4cfa-4646-e156-a3bcae6f2c04"
      },
      "source": [
        "#robimy test czy nasze wyliczenia się zgadzają na przykładzie państwa C\n",
        "C_Car1 = C[C['owns_car']==1.0]['owns_car'].count()\n",
        "C_Car0 = C[C['owns_car']==0.0]['owns_car'].count()\n",
        "print('ilość osób w państwie C z samochodem:', C_Car1)\n",
        "print('ilość osób w państwie C bez samochodu:', C_Car0)\n",
        "print('czuli razem: ',C_Car1 + C_Car0)\n",
        "print('Ilość rekordów w państwie C',df[df['Country']=='C']['Country'].count())"
      ],
      "execution_count": null,
      "outputs": [
        {
          "output_type": "stream",
          "name": "stdout",
          "text": [
            "ilość osób w państwie C z samochodem: 106\n",
            "ilość osób w państwie C bez samochodu: 75\n",
            "czuli razem:  181\n",
            "Ilość rekordów w państwie C 181\n"
          ]
        }
      ]
    },
    {
      "cell_type": "code",
      "metadata": {
        "colab": {
          "base_uri": "https://localhost:8080/"
        },
        "id": "zSXc88awoH-q",
        "outputId": "5e4884b0-7c7b-4caf-b8c0-6486af581af9"
      },
      "source": [
        "#Zadanie 3\n",
        "#Porównaj średnią posiadanych dóbr między kobietami i mężczyznami\n",
        "\n",
        "# Obliczenia dla kobiet\n",
        "women = df[df['gender']=='K'] #filtrujemy tylko wiersze dla Kobiet\n",
        "women_amount = df[df['gender']=='K']['gender'].count()\n",
        "women_Car = women[women['owns_car']==1]['owns_car'].count() #zliczamy samochody dla kobiet\n",
        "women_TV = women[women['owns_TV']==1]['owns_TV'].count() #zliczamy TV dla kobiet\n",
        "women_House = women[women['owns_house']==1]['owns_house'].count() #zliczamy domy dla kobiet\n",
        "women_Phone = women[women['owns_Phone']==1]['owns_Phone'].count() #zliczamy telefony dla kobiet\n",
        "\n",
        "#Obliczenia dla mężczyzn\n",
        "men = df[df['gender']=='M'] #filtrujemy tylko wiersze dla Mężczyzn\n",
        "men_amount = df[df['gender']=='M']['gender'].count()\n",
        "men_Car = men[men['owns_car']==1]['owns_car'].count() #zliczamy samochody dla mężczyzn\n",
        "men_TV = men[men['owns_TV']==1]['owns_TV'].count() #zliczamy TV dla mężczyzn\n",
        "men_House = men[men['owns_house']==1]['owns_house'].count() #zliczamy domy dla mężczyzn\n",
        "men_Phone = men[men['owns_Phone']==1]['owns_Phone'].count() #zliczamy telefony dla mężczyzn\n",
        "\n",
        "print('Liczba posiadanych dóbr na',women_amount, 'kobiet')\n",
        "print('Car:',(round(women_Car/women_amount,2)*100), '%')\n",
        "print('TV:',(round(women_TV/women_amount,2)*100), '%')\n",
        "print('House:',(round(women_House/women_amount,2)*100), '%')\n",
        "print('Phone:',(round(women_Phone/women_amount,2)*100), '%')\n",
        "\n",
        "print('Liczba posiadanych dóbr na',men_amount, 'mężczyzn')\n",
        "print('Car:',(round(men_Car/men_amount,2)*100), '%')\n",
        "print('TV:',(round(men_TV/men_amount,2)*100), '%')\n",
        "print('House:',(round(men_House/men_amount,2)*100), '%')\n",
        "print('Phone:',(round(men_Phone/men_amount,2)*100), '%')"
      ],
      "execution_count": null,
      "outputs": [
        {
          "output_type": "stream",
          "name": "stdout",
          "text": [
            "Liczba posiadanych dóbr na 384 kobiet\n",
            "Car: 48.0 %\n",
            "TV: 91.0 %\n",
            "House: 41.0 %\n",
            "Phone: 100.0 %\n",
            "Liczba posiadanych dóbr na 394 mężczyzn\n",
            "Car: 0.0 %\n",
            "TV: 0.0 %\n",
            "House: 0.0 %\n",
            "Phone: 89.0 %\n"
          ]
        }
      ]
    },
    {
      "cell_type": "code",
      "metadata": {
        "id": "nZX5PN-RvcJN"
      },
      "source": [
        "#ciekawy Insight powyżej porownujący liczbę posiadanych dóbr (statystyka niestety jest bezlitosna)"
      ],
      "execution_count": null,
      "outputs": []
    },
    {
      "cell_type": "code",
      "metadata": {
        "colab": {
          "base_uri": "https://localhost:8080/"
        },
        "id": "7UEJ3uZivlPl",
        "outputId": "d672a27b-f030-4631-a280-be1f3f50afcd"
      },
      "source": [
        "#Sprawdzamy jeszcze czy na pewno nie ma pomyłki\n",
        "print('liczba rekordów meżczyzn posiadających samochód:', len(men[men['owns_car']==1]))\n",
        "print('liczba rekordów meżczyzn posiadających TV:', len(men[men['owns_TV']==1]))\n",
        "print('liczba rekordów meżczyzn posiadających dom:', len(men[men['owns_house']==1]))\n",
        "print('liczba rekordów meżczyzn posiadających telefon:', len(men[men['owns_Phone']==1]))"
      ],
      "execution_count": null,
      "outputs": [
        {
          "output_type": "stream",
          "name": "stdout",
          "text": [
            "liczba rekordów meżczyzn posiadających samochód: 0\n",
            "liczba rekordów meżczyzn posiadających TV: 0\n",
            "liczba rekordów meżczyzn posiadających dom: 0\n",
            "liczba rekordów meżczyzn posiadających telefon: 349\n"
          ]
        }
      ]
    },
    {
      "cell_type": "code",
      "metadata": {
        "id": "YYj9zADhz-U3"
      },
      "source": [
        "#Zadanie 4\n",
        "#Stwórz ramkę danych, która zawierać będzie w pierwszej kolumnie wartość zmiennej COUNTRY, \n",
        "#w drugiej kolumnie, średnią posiadanych dóbr w danym kraju, \n",
        "#w trzeciej kolumnie minimum wieku, a czwartej kolumnie odsetek kobiet."
      ],
      "execution_count": null,
      "outputs": []
    },
    {
      "cell_type": "code",
      "metadata": {
        "id": "y5p0iXOS0Xqc"
      },
      "source": [
        "#pytania dt zadania\n",
        "#czy pierwsza kolumna ma zawierać tylko unikalne wartości tj 'A','B','C','D' czy te wartości mogą się powatarzać wielokrotnie dla 778 rekordów\n",
        "#co rozumiemy przez średnią posiadanych dóbr? ciężko powórnywać sumę domu + telefon + tv ponieważ taka suma nic nie mówi o stanie posiadania właściciela\n",
        "#tracimy tutaj wagi. Nieporównywalnie wiekszą wartość powinien miec dom niż np telefon\n",
        "#w trzeciej kolumnie czy ma być to minimum wieku dla danego kraju czy np płci\n",
        "#czy w czwartej kolumnie ma być odsetek kobiet w danym kraju"
      ],
      "execution_count": null,
      "outputs": []
    },
    {
      "cell_type": "code",
      "metadata": {
        "id": "MeJ9s-ge3Nog"
      },
      "source": [
        "#Założenia do zadania 4\n",
        "#1 kolumna ma unikalne wartości A,B,C,D\n",
        "#2 kolumna bedzie pokazywać średnią zsumownaych wartości dla danego rekordu tj (samochód+ dom+ telefon+ tv) z wagami 1. \n",
        "#czyli jesli ktoś ma tylko samochód to 1, a jeśli ma wszystkie dobra to 4\n",
        "#3 kolumna to min wieku w danym kraju\n",
        "#4 kolumna to odsetek kobiet do wszystkich osób w danym kraju"
      ],
      "execution_count": null,
      "outputs": []
    },
    {
      "cell_type": "code",
      "metadata": {
        "colab": {
          "base_uri": "https://localhost:8080/",
          "height": 203
        },
        "id": "ZEMW2n_OKauw",
        "outputId": "e0ed4277-da37-476d-8430-0127bf407502"
      },
      "source": [
        "# krok 1 tworzymy dodatkową kolumnę aby zsumować dobra dla danego rekordu (taka czynność była zrobiona dla zadania2 przy wersji nr 1 tego pliku)\n",
        "df['wealth_quantity']=df['owns_car']+df['owns_TV']+df['owns_house']+df['owns_Phone']\n",
        "df.head()"
      ],
      "execution_count": null,
      "outputs": [
        {
          "output_type": "execute_result",
          "data": {
            "text/html": [
              "<div>\n",
              "<style scoped>\n",
              "    .dataframe tbody tr th:only-of-type {\n",
              "        vertical-align: middle;\n",
              "    }\n",
              "\n",
              "    .dataframe tbody tr th {\n",
              "        vertical-align: top;\n",
              "    }\n",
              "\n",
              "    .dataframe thead th {\n",
              "        text-align: right;\n",
              "    }\n",
              "</style>\n",
              "<table border=\"1\" class=\"dataframe\">\n",
              "  <thead>\n",
              "    <tr style=\"text-align: right;\">\n",
              "      <th></th>\n",
              "      <th>ID</th>\n",
              "      <th>Country</th>\n",
              "      <th>owns_car</th>\n",
              "      <th>owns_TV</th>\n",
              "      <th>owns_house</th>\n",
              "      <th>owns_Phone</th>\n",
              "      <th>gender</th>\n",
              "      <th>Age</th>\n",
              "      <th>wealth_quantity</th>\n",
              "    </tr>\n",
              "  </thead>\n",
              "  <tbody>\n",
              "    <tr>\n",
              "      <th>0</th>\n",
              "      <td>1</td>\n",
              "      <td>A</td>\n",
              "      <td>0.0</td>\n",
              "      <td>0.0</td>\n",
              "      <td>0.0</td>\n",
              "      <td>1</td>\n",
              "      <td>M</td>\n",
              "      <td>61</td>\n",
              "      <td>1.0</td>\n",
              "    </tr>\n",
              "    <tr>\n",
              "      <th>1</th>\n",
              "      <td>2</td>\n",
              "      <td>B</td>\n",
              "      <td>0.0</td>\n",
              "      <td>0.0</td>\n",
              "      <td>0.0</td>\n",
              "      <td>1</td>\n",
              "      <td>M</td>\n",
              "      <td>44</td>\n",
              "      <td>1.0</td>\n",
              "    </tr>\n",
              "    <tr>\n",
              "      <th>2</th>\n",
              "      <td>3</td>\n",
              "      <td>A</td>\n",
              "      <td>0.0</td>\n",
              "      <td>0.0</td>\n",
              "      <td>0.0</td>\n",
              "      <td>1</td>\n",
              "      <td>M</td>\n",
              "      <td>56</td>\n",
              "      <td>1.0</td>\n",
              "    </tr>\n",
              "    <tr>\n",
              "      <th>3</th>\n",
              "      <td>4</td>\n",
              "      <td>A</td>\n",
              "      <td>0.0</td>\n",
              "      <td>0.0</td>\n",
              "      <td>0.0</td>\n",
              "      <td>1</td>\n",
              "      <td>M</td>\n",
              "      <td>53</td>\n",
              "      <td>1.0</td>\n",
              "    </tr>\n",
              "    <tr>\n",
              "      <th>4</th>\n",
              "      <td>5</td>\n",
              "      <td>C</td>\n",
              "      <td>1.0</td>\n",
              "      <td>1.0</td>\n",
              "      <td>0.0</td>\n",
              "      <td>1</td>\n",
              "      <td>K</td>\n",
              "      <td>60</td>\n",
              "      <td>3.0</td>\n",
              "    </tr>\n",
              "  </tbody>\n",
              "</table>\n",
              "</div>"
            ],
            "text/plain": [
              "   ID Country  owns_car  owns_TV  ...  owns_Phone  gender Age  wealth_quantity\n",
              "0   1       A       0.0      0.0  ...           1       M  61              1.0\n",
              "1   2       B       0.0      0.0  ...           1       M  44              1.0\n",
              "2   3       A       0.0      0.0  ...           1       M  56              1.0\n",
              "3   4       A       0.0      0.0  ...           1       M  53              1.0\n",
              "4   5       C       1.0      1.0  ...           1       K  60              3.0\n",
              "\n",
              "[5 rows x 9 columns]"
            ]
          },
          "metadata": {},
          "execution_count": 18
        }
      ]
    },
    {
      "cell_type": "code",
      "metadata": {
        "colab": {
          "base_uri": "https://localhost:8080/"
        },
        "id": "O1TDnbNdLC3d",
        "outputId": "76493437-54b4-40d1-8ec2-5ff8fc196394"
      },
      "source": [
        "# krok2 obliczamy wartości dla drugiej kolumny dla zadanych krajów\n",
        "A = df[df['Country']=='A'] #filtrujemy tylko wiersze dla kraju A\n",
        "B = df[df['Country']=='B']\n",
        "C = df[df['Country']=='C']\n",
        "D = df[df['Country']=='D']\n",
        "\n",
        "A_Wealth = round(A['wealth_quantity'].mean(),2)\n",
        "B_Wealth = round(B['wealth_quantity'].mean(),2)\n",
        "C_Wealth = round(C['wealth_quantity'].mean(),2)\n",
        "D_Wealth = round(D['wealth_quantity'].mean(),2)\n",
        "\n",
        "Wealth = [A_Wealth, B_Wealth, C_Wealth, D_Wealth]\n",
        "Wealth"
      ],
      "execution_count": null,
      "outputs": [
        {
          "output_type": "execute_result",
          "data": {
            "text/plain": [
              "[0.86, 1.46, 3.03, 4.0]"
            ]
          },
          "metadata": {},
          "execution_count": 39
        }
      ]
    },
    {
      "cell_type": "code",
      "metadata": {
        "colab": {
          "base_uri": "https://localhost:8080/"
        },
        "id": "sPLKVNZmOTio",
        "outputId": "d84b2efb-ceaa-4f98-f395-92a9bba2f876"
      },
      "source": [
        "# krok3 obliczamy min wieku w poszczególnych krajach\n",
        "A_Age_Min = A['Age'].min()\n",
        "B_Age_Min = B['Age'].min()\n",
        "C_Age_Min = C['Age'].min()\n",
        "D_Age_Min = D['Age'].min()\n",
        "\n",
        "Age_Min = [A_Age_Min, B_Age_Min, C_Age_Min, D_Age_Min]\n",
        "Age_Min"
      ],
      "execution_count": null,
      "outputs": [
        {
          "output_type": "execute_result",
          "data": {
            "text/plain": [
              "[18, 18, 18, 18]"
            ]
          },
          "metadata": {},
          "execution_count": 40
        }
      ]
    },
    {
      "cell_type": "code",
      "metadata": {
        "colab": {
          "base_uri": "https://localhost:8080/"
        },
        "id": "XdckpizNO4yO",
        "outputId": "7e985b68-817a-48ce-d8e8-16504713d0ff"
      },
      "source": [
        "# krok4 obliczamy odsetek kobiet w danym kraju\n",
        "A_Women = round((len(A[A['gender']=='K'])/len(A)) *100,2)\n",
        "B_Women = round((len(B[B['gender']=='K'])/len(B)) *100,2)\n",
        "C_Women = round((len(C[C['gender']=='K'])/len(C)) *100,2)\n",
        "D_Women = round((len(D[D['gender']=='K'])/len(D)) *100,2)\n",
        "\n",
        "Women_Percentage = [A_Women, B_Women, C_Women, D_Women]\n",
        "Women_Percentage"
      ],
      "execution_count": null,
      "outputs": [
        {
          "output_type": "execute_result",
          "data": {
            "text/plain": [
              "[0.0, 63.78, 100.0, 100.0]"
            ]
          },
          "metadata": {},
          "execution_count": 56
        }
      ]
    },
    {
      "cell_type": "code",
      "metadata": {
        "colab": {
          "base_uri": "https://localhost:8080/",
          "height": 172
        },
        "id": "_pYAstXwRFwQ",
        "outputId": "00270c30-88af-4ff1-966c-1d66f7dcc807"
      },
      "source": [
        "# krok5 składamy DataFrame\n",
        "\n",
        "Countries =['A','B','C','D']\n",
        "Countires_Table_Dict= {'Countires':Countries, 'Wealth': Wealth, 'Age_Min': Age_Min, 'Women_Percentage':Women_Percentage}\n",
        "Countries_Table = pd.DataFrame(Countires_Table_Dict)\n",
        "Countries_Table"
      ],
      "execution_count": null,
      "outputs": [
        {
          "output_type": "execute_result",
          "data": {
            "text/html": [
              "<div>\n",
              "<style scoped>\n",
              "    .dataframe tbody tr th:only-of-type {\n",
              "        vertical-align: middle;\n",
              "    }\n",
              "\n",
              "    .dataframe tbody tr th {\n",
              "        vertical-align: top;\n",
              "    }\n",
              "\n",
              "    .dataframe thead th {\n",
              "        text-align: right;\n",
              "    }\n",
              "</style>\n",
              "<table border=\"1\" class=\"dataframe\">\n",
              "  <thead>\n",
              "    <tr style=\"text-align: right;\">\n",
              "      <th></th>\n",
              "      <th>Countires</th>\n",
              "      <th>Wealth</th>\n",
              "      <th>Age_Min</th>\n",
              "      <th>Women_Percentage</th>\n",
              "    </tr>\n",
              "  </thead>\n",
              "  <tbody>\n",
              "    <tr>\n",
              "      <th>0</th>\n",
              "      <td>A</td>\n",
              "      <td>0.86</td>\n",
              "      <td>18</td>\n",
              "      <td>0.00</td>\n",
              "    </tr>\n",
              "    <tr>\n",
              "      <th>1</th>\n",
              "      <td>B</td>\n",
              "      <td>1.46</td>\n",
              "      <td>18</td>\n",
              "      <td>63.78</td>\n",
              "    </tr>\n",
              "    <tr>\n",
              "      <th>2</th>\n",
              "      <td>C</td>\n",
              "      <td>3.03</td>\n",
              "      <td>18</td>\n",
              "      <td>100.00</td>\n",
              "    </tr>\n",
              "    <tr>\n",
              "      <th>3</th>\n",
              "      <td>D</td>\n",
              "      <td>4.00</td>\n",
              "      <td>18</td>\n",
              "      <td>100.00</td>\n",
              "    </tr>\n",
              "  </tbody>\n",
              "</table>\n",
              "</div>"
            ],
            "text/plain": [
              "  Countires  Wealth  Age_Min  Women_Percentage\n",
              "0         A    0.86       18              0.00\n",
              "1         B    1.46       18             63.78\n",
              "2         C    3.03       18            100.00\n",
              "3         D    4.00       18            100.00"
            ]
          },
          "metadata": {},
          "execution_count": 62
        }
      ]
    }
  ]
}