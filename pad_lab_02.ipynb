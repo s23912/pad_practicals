{
  "nbformat": 4,
  "nbformat_minor": 0,
  "metadata": {
    "colab": {
      "name": "pad_lab_02.ipynb",
      "provenance": [],
      "collapsed_sections": [],
      "include_colab_link": true
    },
    "kernelspec": {
      "name": "python3",
      "display_name": "Python 3"
    },
    "language_info": {
      "name": "python"
    }
  },
  "cells": [
    {
      "cell_type": "markdown",
      "metadata": {
        "id": "view-in-github",
        "colab_type": "text"
      },
      "source": [
        "<a href=\"https://colab.research.google.com/github/s23912/pad_practicals/blob/main/pad_lab_02.ipynb\" target=\"_parent\"><img src=\"https://colab.research.google.com/assets/colab-badge.svg\" alt=\"Open In Colab\"/></a>"
      ]
    },
    {
      "cell_type": "code",
      "metadata": {
        "id": "bB7ssZn6EgjJ"
      },
      "source": [
        "import pandas as pd\n",
        "path ='/content/drive/MyDrive/DS/PAD/PAD_02/pad_lab_02_db.csv'"
      ],
      "execution_count": null,
      "outputs": []
    },
    {
      "cell_type": "code",
      "metadata": {
        "colab": {
          "base_uri": "https://localhost:8080/",
          "height": 388
        },
        "id": "Sck_HKAvlvOy",
        "outputId": "0c398ba1-9541-4c4d-daac-107572c8fb15"
      },
      "source": [
        "df = pd.read_csv(path, sep=';')\n",
        "df"
      ],
      "execution_count": null,
      "outputs": [
        {
          "output_type": "execute_result",
          "data": {
            "text/html": [
              "<div>\n",
              "<style scoped>\n",
              "    .dataframe tbody tr th:only-of-type {\n",
              "        vertical-align: middle;\n",
              "    }\n",
              "\n",
              "    .dataframe tbody tr th {\n",
              "        vertical-align: top;\n",
              "    }\n",
              "\n",
              "    .dataframe thead th {\n",
              "        text-align: right;\n",
              "    }\n",
              "</style>\n",
              "<table border=\"1\" class=\"dataframe\">\n",
              "  <thead>\n",
              "    <tr style=\"text-align: right;\">\n",
              "      <th></th>\n",
              "      <th>Name</th>\n",
              "      <th>Age</th>\n",
              "      <th>Country</th>\n",
              "      <th>Salary</th>\n",
              "      <th>Gender</th>\n",
              "    </tr>\n",
              "  </thead>\n",
              "  <tbody>\n",
              "    <tr>\n",
              "      <th>0</th>\n",
              "      <td>A</td>\n",
              "      <td>56</td>\n",
              "      <td>Poland</td>\n",
              "      <td>1000</td>\n",
              "      <td>M</td>\n",
              "    </tr>\n",
              "    <tr>\n",
              "      <th>1</th>\n",
              "      <td>B</td>\n",
              "      <td>44</td>\n",
              "      <td>Poland</td>\n",
              "      <td>2000</td>\n",
              "      <td>F</td>\n",
              "    </tr>\n",
              "    <tr>\n",
              "      <th>2</th>\n",
              "      <td>C</td>\n",
              "      <td>32</td>\n",
              "      <td>UK</td>\n",
              "      <td>4678</td>\n",
              "      <td>F</td>\n",
              "    </tr>\n",
              "    <tr>\n",
              "      <th>3</th>\n",
              "      <td>D</td>\n",
              "      <td>44</td>\n",
              "      <td>UK</td>\n",
              "      <td>5444</td>\n",
              "      <td>F</td>\n",
              "    </tr>\n",
              "    <tr>\n",
              "      <th>4</th>\n",
              "      <td>E</td>\n",
              "      <td>32</td>\n",
              "      <td>UK</td>\n",
              "      <td>2223</td>\n",
              "      <td>F</td>\n",
              "    </tr>\n",
              "    <tr>\n",
              "      <th>5</th>\n",
              "      <td>F</td>\n",
              "      <td>56</td>\n",
              "      <td>Ireland</td>\n",
              "      <td>4567</td>\n",
              "      <td>F</td>\n",
              "    </tr>\n",
              "    <tr>\n",
              "      <th>6</th>\n",
              "      <td>J</td>\n",
              "      <td>22</td>\n",
              "      <td>Ireland</td>\n",
              "      <td>7786</td>\n",
              "      <td>F</td>\n",
              "    </tr>\n",
              "    <tr>\n",
              "      <th>7</th>\n",
              "      <td>Z</td>\n",
              "      <td>34</td>\n",
              "      <td>Ukraine</td>\n",
              "      <td>6544</td>\n",
              "      <td>M</td>\n",
              "    </tr>\n",
              "    <tr>\n",
              "      <th>8</th>\n",
              "      <td>D</td>\n",
              "      <td>37</td>\n",
              "      <td>Iukraine</td>\n",
              "      <td>5444</td>\n",
              "      <td>M</td>\n",
              "    </tr>\n",
              "    <tr>\n",
              "      <th>9</th>\n",
              "      <td>D</td>\n",
              "      <td>26</td>\n",
              "      <td>Iukraine</td>\n",
              "      <td>2345</td>\n",
              "      <td>M</td>\n",
              "    </tr>\n",
              "    <tr>\n",
              "      <th>10</th>\n",
              "      <td>F</td>\n",
              "      <td>55</td>\n",
              "      <td>Russia</td>\n",
              "      <td>9877</td>\n",
              "      <td>M</td>\n",
              "    </tr>\n",
              "  </tbody>\n",
              "</table>\n",
              "</div>"
            ],
            "text/plain": [
              "   Name  Age   Country  Salary Gender\n",
              "0     A   56    Poland    1000      M\n",
              "1     B   44    Poland    2000      F\n",
              "2     C   32        UK    4678      F\n",
              "3     D   44        UK    5444      F\n",
              "4     E   32        UK    2223      F\n",
              "5     F   56   Ireland    4567      F\n",
              "6     J   22   Ireland    7786      F\n",
              "7     Z   34   Ukraine    6544      M\n",
              "8     D   37  Iukraine    5444      M\n",
              "9     D   26  Iukraine    2345      M\n",
              "10    F   55    Russia    9877      M"
            ]
          },
          "metadata": {},
          "execution_count": 64
        }
      ]
    },
    {
      "cell_type": "code",
      "metadata": {
        "colab": {
          "base_uri": "https://localhost:8080/",
          "height": 388
        },
        "id": "JHhuNTiYl99u",
        "outputId": "1889d3ed-e324-4f78-bf59-bbf45ec25970"
      },
      "source": [
        "df2 = pd.read_csv(path, sep=';', usecols=['Name','Salary'])\n",
        "df2"
      ],
      "execution_count": null,
      "outputs": [
        {
          "output_type": "execute_result",
          "data": {
            "text/html": [
              "<div>\n",
              "<style scoped>\n",
              "    .dataframe tbody tr th:only-of-type {\n",
              "        vertical-align: middle;\n",
              "    }\n",
              "\n",
              "    .dataframe tbody tr th {\n",
              "        vertical-align: top;\n",
              "    }\n",
              "\n",
              "    .dataframe thead th {\n",
              "        text-align: right;\n",
              "    }\n",
              "</style>\n",
              "<table border=\"1\" class=\"dataframe\">\n",
              "  <thead>\n",
              "    <tr style=\"text-align: right;\">\n",
              "      <th></th>\n",
              "      <th>Name</th>\n",
              "      <th>Salary</th>\n",
              "    </tr>\n",
              "  </thead>\n",
              "  <tbody>\n",
              "    <tr>\n",
              "      <th>0</th>\n",
              "      <td>A</td>\n",
              "      <td>1000</td>\n",
              "    </tr>\n",
              "    <tr>\n",
              "      <th>1</th>\n",
              "      <td>B</td>\n",
              "      <td>2000</td>\n",
              "    </tr>\n",
              "    <tr>\n",
              "      <th>2</th>\n",
              "      <td>C</td>\n",
              "      <td>4678</td>\n",
              "    </tr>\n",
              "    <tr>\n",
              "      <th>3</th>\n",
              "      <td>D</td>\n",
              "      <td>5444</td>\n",
              "    </tr>\n",
              "    <tr>\n",
              "      <th>4</th>\n",
              "      <td>E</td>\n",
              "      <td>2223</td>\n",
              "    </tr>\n",
              "    <tr>\n",
              "      <th>5</th>\n",
              "      <td>F</td>\n",
              "      <td>4567</td>\n",
              "    </tr>\n",
              "    <tr>\n",
              "      <th>6</th>\n",
              "      <td>J</td>\n",
              "      <td>7786</td>\n",
              "    </tr>\n",
              "    <tr>\n",
              "      <th>7</th>\n",
              "      <td>Z</td>\n",
              "      <td>6544</td>\n",
              "    </tr>\n",
              "    <tr>\n",
              "      <th>8</th>\n",
              "      <td>D</td>\n",
              "      <td>5444</td>\n",
              "    </tr>\n",
              "    <tr>\n",
              "      <th>9</th>\n",
              "      <td>D</td>\n",
              "      <td>2345</td>\n",
              "    </tr>\n",
              "    <tr>\n",
              "      <th>10</th>\n",
              "      <td>F</td>\n",
              "      <td>9877</td>\n",
              "    </tr>\n",
              "  </tbody>\n",
              "</table>\n",
              "</div>"
            ],
            "text/plain": [
              "   Name  Salary\n",
              "0     A    1000\n",
              "1     B    2000\n",
              "2     C    4678\n",
              "3     D    5444\n",
              "4     E    2223\n",
              "5     F    4567\n",
              "6     J    7786\n",
              "7     Z    6544\n",
              "8     D    5444\n",
              "9     D    2345\n",
              "10    F    9877"
            ]
          },
          "metadata": {},
          "execution_count": 65
        }
      ]
    },
    {
      "cell_type": "code",
      "metadata": {
        "colab": {
          "base_uri": "https://localhost:8080/"
        },
        "id": "FPbFFrKamPcQ",
        "outputId": "bbd34fa2-b0e1-420d-d7d2-ede8acb4628c"
      },
      "source": [
        "len(df2)"
      ],
      "execution_count": null,
      "outputs": [
        {
          "output_type": "execute_result",
          "data": {
            "text/plain": [
              "11"
            ]
          },
          "metadata": {},
          "execution_count": 66
        }
      ]
    },
    {
      "cell_type": "code",
      "metadata": {
        "colab": {
          "base_uri": "https://localhost:8080/"
        },
        "id": "1Inbmm9ImU2F",
        "outputId": "51351088-6168-4207-b258-8affeb2e2c67"
      },
      "source": [
        "df.count() #liczba wierszy w kazdej kolumnie"
      ],
      "execution_count": null,
      "outputs": [
        {
          "output_type": "execute_result",
          "data": {
            "text/plain": [
              "Name       11\n",
              "Age        11\n",
              "Country    11\n",
              "Salary     11\n",
              "Gender     11\n",
              "dtype: int64"
            ]
          },
          "metadata": {},
          "execution_count": 67
        }
      ]
    },
    {
      "cell_type": "code",
      "metadata": {
        "colab": {
          "base_uri": "https://localhost:8080/"
        },
        "id": "CrKpLNBFmegI",
        "outputId": "9e5072f8-d262-4178-f090-4d0efdc59751"
      },
      "source": [
        "len(df.keys()) #odczytamy liczbe kolumn"
      ],
      "execution_count": null,
      "outputs": [
        {
          "output_type": "execute_result",
          "data": {
            "text/plain": [
              "5"
            ]
          },
          "metadata": {},
          "execution_count": 68
        }
      ]
    },
    {
      "cell_type": "code",
      "metadata": {
        "colab": {
          "base_uri": "https://localhost:8080/"
        },
        "id": "E1324p5xmpdF",
        "outputId": "10fc229c-d6ac-424e-a19f-9ff244c03dd6"
      },
      "source": [
        "df.columns"
      ],
      "execution_count": null,
      "outputs": [
        {
          "output_type": "execute_result",
          "data": {
            "text/plain": [
              "Index(['Name', 'Age', 'Country', 'Salary', 'Gender'], dtype='object')"
            ]
          },
          "metadata": {},
          "execution_count": 69
        }
      ]
    },
    {
      "cell_type": "code",
      "metadata": {
        "colab": {
          "base_uri": "https://localhost:8080/"
        },
        "id": "ZAgXAV34msud",
        "outputId": "506c7f84-bc39-4821-876a-df290df689b6"
      },
      "source": [
        "df.shape"
      ],
      "execution_count": null,
      "outputs": [
        {
          "output_type": "execute_result",
          "data": {
            "text/plain": [
              "(11, 5)"
            ]
          },
          "metadata": {},
          "execution_count": 70
        }
      ]
    },
    {
      "cell_type": "code",
      "metadata": {
        "colab": {
          "base_uri": "https://localhost:8080/"
        },
        "id": "p3zP8R0rm3I5",
        "outputId": "eaf8ca88-f34d-4e3b-99f2-470df98edc8c"
      },
      "source": [
        "women=len(df[df['Gender']=='F'])\n",
        "print(women)\n",
        "all=len(df)\n",
        "print(all)\n",
        "wp = round((women/all),2)\n",
        "print(wp)\n",
        "women_percentage = round(wp*100,2)\n",
        "print(women_percentage)"
      ],
      "execution_count": null,
      "outputs": [
        {
          "output_type": "stream",
          "name": "stdout",
          "text": [
            "6\n",
            "11\n",
            "0.55\n",
            "55.0\n"
          ]
        }
      ]
    },
    {
      "cell_type": "code",
      "metadata": {
        "colab": {
          "base_uri": "https://localhost:8080/"
        },
        "id": "2S8NUWH7p8Vc",
        "outputId": "60cdc399-f6c5-4cc8-a663-7564aea25a03"
      },
      "source": [
        "df['Gender'][df['Gender']=='F'].count()"
      ],
      "execution_count": null,
      "outputs": [
        {
          "output_type": "execute_result",
          "data": {
            "text/plain": [
              "6"
            ]
          },
          "metadata": {},
          "execution_count": 72
        }
      ]
    },
    {
      "cell_type": "code",
      "metadata": {
        "colab": {
          "base_uri": "https://localhost:8080/"
        },
        "id": "Y0augOOzefJo",
        "outputId": "fd2f905d-463f-4112-f1ec-71f1646094ec"
      },
      "source": [
        "g_q = df['Gender'].value_counts()\n",
        "g_q"
      ],
      "execution_count": null,
      "outputs": [
        {
          "output_type": "execute_result",
          "data": {
            "text/plain": [
              "F    6\n",
              "M    5\n",
              "Name: Gender, dtype: int64"
            ]
          },
          "metadata": {},
          "execution_count": 73
        }
      ]
    },
    {
      "cell_type": "code",
      "metadata": {
        "colab": {
          "base_uri": "https://localhost:8080/"
        },
        "id": "X1_G0RHBfATr",
        "outputId": "dc877f95-9e52-4c46-dd1c-c8c3a9726a57"
      },
      "source": [
        "g_q[1]"
      ],
      "execution_count": null,
      "outputs": [
        {
          "output_type": "execute_result",
          "data": {
            "text/plain": [
              "5"
            ]
          },
          "metadata": {},
          "execution_count": 74
        }
      ]
    },
    {
      "cell_type": "code",
      "metadata": {
        "colab": {
          "base_uri": "https://localhost:8080/"
        },
        "id": "YPK9pA01fQCj",
        "outputId": "c976572a-5fe6-4d22-e855-7ab943f33af9"
      },
      "source": [
        "round(df['Gender'].value_counts(normalize=True)['F'],2)\n"
      ],
      "execution_count": null,
      "outputs": [
        {
          "output_type": "execute_result",
          "data": {
            "text/plain": [
              "0.55"
            ]
          },
          "metadata": {},
          "execution_count": 75
        }
      ]
    },
    {
      "cell_type": "code",
      "metadata": {
        "colab": {
          "base_uri": "https://localhost:8080/"
        },
        "id": "XsKGS6ZQfgsU",
        "outputId": "74537445-069b-4e50-f909-7e46bea6afb4"
      },
      "source": [
        "round(df['Gender'].value_counts(normalize=True)['M'],2)"
      ],
      "execution_count": null,
      "outputs": [
        {
          "output_type": "execute_result",
          "data": {
            "text/plain": [
              "0.45"
            ]
          },
          "metadata": {},
          "execution_count": 76
        }
      ]
    },
    {
      "cell_type": "code",
      "metadata": {
        "colab": {
          "base_uri": "https://localhost:8080/",
          "height": 388
        },
        "id": "uP-jCucNfvN1",
        "outputId": "7b5d0033-e8ed-40b7-def2-c638a91ac826"
      },
      "source": [
        "#ktora wartosc najliczniejsxza wsrod mezczyzn\n",
        "df"
      ],
      "execution_count": null,
      "outputs": [
        {
          "output_type": "execute_result",
          "data": {
            "text/html": [
              "<div>\n",
              "<style scoped>\n",
              "    .dataframe tbody tr th:only-of-type {\n",
              "        vertical-align: middle;\n",
              "    }\n",
              "\n",
              "    .dataframe tbody tr th {\n",
              "        vertical-align: top;\n",
              "    }\n",
              "\n",
              "    .dataframe thead th {\n",
              "        text-align: right;\n",
              "    }\n",
              "</style>\n",
              "<table border=\"1\" class=\"dataframe\">\n",
              "  <thead>\n",
              "    <tr style=\"text-align: right;\">\n",
              "      <th></th>\n",
              "      <th>Name</th>\n",
              "      <th>Age</th>\n",
              "      <th>Country</th>\n",
              "      <th>Salary</th>\n",
              "      <th>Gender</th>\n",
              "    </tr>\n",
              "  </thead>\n",
              "  <tbody>\n",
              "    <tr>\n",
              "      <th>0</th>\n",
              "      <td>A</td>\n",
              "      <td>56</td>\n",
              "      <td>Poland</td>\n",
              "      <td>1000</td>\n",
              "      <td>M</td>\n",
              "    </tr>\n",
              "    <tr>\n",
              "      <th>1</th>\n",
              "      <td>B</td>\n",
              "      <td>44</td>\n",
              "      <td>Poland</td>\n",
              "      <td>2000</td>\n",
              "      <td>F</td>\n",
              "    </tr>\n",
              "    <tr>\n",
              "      <th>2</th>\n",
              "      <td>C</td>\n",
              "      <td>32</td>\n",
              "      <td>UK</td>\n",
              "      <td>4678</td>\n",
              "      <td>F</td>\n",
              "    </tr>\n",
              "    <tr>\n",
              "      <th>3</th>\n",
              "      <td>D</td>\n",
              "      <td>44</td>\n",
              "      <td>UK</td>\n",
              "      <td>5444</td>\n",
              "      <td>F</td>\n",
              "    </tr>\n",
              "    <tr>\n",
              "      <th>4</th>\n",
              "      <td>E</td>\n",
              "      <td>32</td>\n",
              "      <td>UK</td>\n",
              "      <td>2223</td>\n",
              "      <td>F</td>\n",
              "    </tr>\n",
              "    <tr>\n",
              "      <th>5</th>\n",
              "      <td>F</td>\n",
              "      <td>56</td>\n",
              "      <td>Ireland</td>\n",
              "      <td>4567</td>\n",
              "      <td>F</td>\n",
              "    </tr>\n",
              "    <tr>\n",
              "      <th>6</th>\n",
              "      <td>J</td>\n",
              "      <td>22</td>\n",
              "      <td>Ireland</td>\n",
              "      <td>7786</td>\n",
              "      <td>F</td>\n",
              "    </tr>\n",
              "    <tr>\n",
              "      <th>7</th>\n",
              "      <td>Z</td>\n",
              "      <td>34</td>\n",
              "      <td>Ukraine</td>\n",
              "      <td>6544</td>\n",
              "      <td>M</td>\n",
              "    </tr>\n",
              "    <tr>\n",
              "      <th>8</th>\n",
              "      <td>D</td>\n",
              "      <td>37</td>\n",
              "      <td>Iukraine</td>\n",
              "      <td>5444</td>\n",
              "      <td>M</td>\n",
              "    </tr>\n",
              "    <tr>\n",
              "      <th>9</th>\n",
              "      <td>D</td>\n",
              "      <td>26</td>\n",
              "      <td>Iukraine</td>\n",
              "      <td>2345</td>\n",
              "      <td>M</td>\n",
              "    </tr>\n",
              "    <tr>\n",
              "      <th>10</th>\n",
              "      <td>F</td>\n",
              "      <td>55</td>\n",
              "      <td>Russia</td>\n",
              "      <td>9877</td>\n",
              "      <td>M</td>\n",
              "    </tr>\n",
              "  </tbody>\n",
              "</table>\n",
              "</div>"
            ],
            "text/plain": [
              "   Name  Age   Country  Salary Gender\n",
              "0     A   56    Poland    1000      M\n",
              "1     B   44    Poland    2000      F\n",
              "2     C   32        UK    4678      F\n",
              "3     D   44        UK    5444      F\n",
              "4     E   32        UK    2223      F\n",
              "5     F   56   Ireland    4567      F\n",
              "6     J   22   Ireland    7786      F\n",
              "7     Z   34   Ukraine    6544      M\n",
              "8     D   37  Iukraine    5444      M\n",
              "9     D   26  Iukraine    2345      M\n",
              "10    F   55    Russia    9877      M"
            ]
          },
          "metadata": {},
          "execution_count": 77
        }
      ]
    },
    {
      "cell_type": "code",
      "metadata": {
        "colab": {
          "base_uri": "https://localhost:8080/",
          "height": 203
        },
        "id": "j3eQonf9im9A",
        "outputId": "1b7a8743-f0a7-4d41-cce6-c6280530606d"
      },
      "source": [
        "men = df[df['Gender']=='M']\n",
        "men"
      ],
      "execution_count": null,
      "outputs": [
        {
          "output_type": "execute_result",
          "data": {
            "text/html": [
              "<div>\n",
              "<style scoped>\n",
              "    .dataframe tbody tr th:only-of-type {\n",
              "        vertical-align: middle;\n",
              "    }\n",
              "\n",
              "    .dataframe tbody tr th {\n",
              "        vertical-align: top;\n",
              "    }\n",
              "\n",
              "    .dataframe thead th {\n",
              "        text-align: right;\n",
              "    }\n",
              "</style>\n",
              "<table border=\"1\" class=\"dataframe\">\n",
              "  <thead>\n",
              "    <tr style=\"text-align: right;\">\n",
              "      <th></th>\n",
              "      <th>Name</th>\n",
              "      <th>Age</th>\n",
              "      <th>Country</th>\n",
              "      <th>Salary</th>\n",
              "      <th>Gender</th>\n",
              "    </tr>\n",
              "  </thead>\n",
              "  <tbody>\n",
              "    <tr>\n",
              "      <th>0</th>\n",
              "      <td>A</td>\n",
              "      <td>56</td>\n",
              "      <td>Poland</td>\n",
              "      <td>1000</td>\n",
              "      <td>M</td>\n",
              "    </tr>\n",
              "    <tr>\n",
              "      <th>7</th>\n",
              "      <td>Z</td>\n",
              "      <td>34</td>\n",
              "      <td>Ukraine</td>\n",
              "      <td>6544</td>\n",
              "      <td>M</td>\n",
              "    </tr>\n",
              "    <tr>\n",
              "      <th>8</th>\n",
              "      <td>D</td>\n",
              "      <td>37</td>\n",
              "      <td>Iukraine</td>\n",
              "      <td>5444</td>\n",
              "      <td>M</td>\n",
              "    </tr>\n",
              "    <tr>\n",
              "      <th>9</th>\n",
              "      <td>D</td>\n",
              "      <td>26</td>\n",
              "      <td>Iukraine</td>\n",
              "      <td>2345</td>\n",
              "      <td>M</td>\n",
              "    </tr>\n",
              "    <tr>\n",
              "      <th>10</th>\n",
              "      <td>F</td>\n",
              "      <td>55</td>\n",
              "      <td>Russia</td>\n",
              "      <td>9877</td>\n",
              "      <td>M</td>\n",
              "    </tr>\n",
              "  </tbody>\n",
              "</table>\n",
              "</div>"
            ],
            "text/plain": [
              "   Name  Age   Country  Salary Gender\n",
              "0     A   56    Poland    1000      M\n",
              "7     Z   34   Ukraine    6544      M\n",
              "8     D   37  Iukraine    5444      M\n",
              "9     D   26  Iukraine    2345      M\n",
              "10    F   55    Russia    9877      M"
            ]
          },
          "metadata": {},
          "execution_count": 78
        }
      ]
    },
    {
      "cell_type": "code",
      "metadata": {
        "colab": {
          "base_uri": "https://localhost:8080/"
        },
        "id": "u8jUz7V0i-4V",
        "outputId": "87d213ea-6752-4355-b964-cae2635f97b9"
      },
      "source": [
        "men_countries = df[df['Gender']=='M']['Country'].value_counts()\n",
        "men_countries"
      ],
      "execution_count": null,
      "outputs": [
        {
          "output_type": "execute_result",
          "data": {
            "text/plain": [
              "Iukraine    2\n",
              "Russia      1\n",
              "Poland      1\n",
              "Ukraine     1\n",
              "Name: Country, dtype: int64"
            ]
          },
          "metadata": {},
          "execution_count": 79
        }
      ]
    },
    {
      "cell_type": "code",
      "metadata": {
        "colab": {
          "base_uri": "https://localhost:8080/"
        },
        "id": "OYSawgxujNin",
        "outputId": "ad2f0066-c43b-4dd9-dbef-d73b6f715914"
      },
      "source": [
        "men_countries[men_countries == men_countries.max()]"
      ],
      "execution_count": null,
      "outputs": [
        {
          "output_type": "execute_result",
          "data": {
            "text/plain": [
              "Iukraine    2\n",
              "Name: Country, dtype: int64"
            ]
          },
          "metadata": {},
          "execution_count": 80
        }
      ]
    },
    {
      "cell_type": "code",
      "metadata": {
        "colab": {
          "base_uri": "https://localhost:8080/"
        },
        "id": "s7I_NKnOjgK7",
        "outputId": "1a47b1e3-ee4e-422c-a985-08c707f752e0"
      },
      "source": [
        "list(men_countries[ men_countries == men_countries.max()].index)"
      ],
      "execution_count": null,
      "outputs": [
        {
          "output_type": "execute_result",
          "data": {
            "text/plain": [
              "['Iukraine']"
            ]
          },
          "metadata": {},
          "execution_count": 81
        }
      ]
    },
    {
      "cell_type": "code",
      "metadata": {
        "colab": {
          "base_uri": "https://localhost:8080/",
          "height": 203
        },
        "id": "pXFlR2o6khjw",
        "outputId": "d0a1a177-2a2c-418a-df2f-9c53c3ec9e84"
      },
      "source": [
        "# w pierwszych 5 rekordach ile oósb ma wiecje niz x lat\n",
        "df_f5 = df.iloc[:5,:]\n",
        "df_f5"
      ],
      "execution_count": null,
      "outputs": [
        {
          "output_type": "execute_result",
          "data": {
            "text/html": [
              "<div>\n",
              "<style scoped>\n",
              "    .dataframe tbody tr th:only-of-type {\n",
              "        vertical-align: middle;\n",
              "    }\n",
              "\n",
              "    .dataframe tbody tr th {\n",
              "        vertical-align: top;\n",
              "    }\n",
              "\n",
              "    .dataframe thead th {\n",
              "        text-align: right;\n",
              "    }\n",
              "</style>\n",
              "<table border=\"1\" class=\"dataframe\">\n",
              "  <thead>\n",
              "    <tr style=\"text-align: right;\">\n",
              "      <th></th>\n",
              "      <th>Name</th>\n",
              "      <th>Age</th>\n",
              "      <th>Country</th>\n",
              "      <th>Salary</th>\n",
              "      <th>Gender</th>\n",
              "    </tr>\n",
              "  </thead>\n",
              "  <tbody>\n",
              "    <tr>\n",
              "      <th>0</th>\n",
              "      <td>A</td>\n",
              "      <td>56</td>\n",
              "      <td>Poland</td>\n",
              "      <td>1000</td>\n",
              "      <td>M</td>\n",
              "    </tr>\n",
              "    <tr>\n",
              "      <th>1</th>\n",
              "      <td>B</td>\n",
              "      <td>44</td>\n",
              "      <td>Poland</td>\n",
              "      <td>2000</td>\n",
              "      <td>F</td>\n",
              "    </tr>\n",
              "    <tr>\n",
              "      <th>2</th>\n",
              "      <td>C</td>\n",
              "      <td>32</td>\n",
              "      <td>UK</td>\n",
              "      <td>4678</td>\n",
              "      <td>F</td>\n",
              "    </tr>\n",
              "    <tr>\n",
              "      <th>3</th>\n",
              "      <td>D</td>\n",
              "      <td>44</td>\n",
              "      <td>UK</td>\n",
              "      <td>5444</td>\n",
              "      <td>F</td>\n",
              "    </tr>\n",
              "    <tr>\n",
              "      <th>4</th>\n",
              "      <td>E</td>\n",
              "      <td>32</td>\n",
              "      <td>UK</td>\n",
              "      <td>2223</td>\n",
              "      <td>F</td>\n",
              "    </tr>\n",
              "  </tbody>\n",
              "</table>\n",
              "</div>"
            ],
            "text/plain": [
              "  Name  Age Country  Salary Gender\n",
              "0    A   56  Poland    1000      M\n",
              "1    B   44  Poland    2000      F\n",
              "2    C   32      UK    4678      F\n",
              "3    D   44      UK    5444      F\n",
              "4    E   32      UK    2223      F"
            ]
          },
          "metadata": {},
          "execution_count": 82
        }
      ]
    },
    {
      "cell_type": "code",
      "metadata": {
        "colab": {
          "base_uri": "https://localhost:8080/",
          "height": 142
        },
        "id": "zepl8TYGk04Q",
        "outputId": "f4079b2d-68cc-4627-9b63-4f05982d2375"
      },
      "source": [
        "df_f5[ df_f5['Age']>40]"
      ],
      "execution_count": null,
      "outputs": [
        {
          "output_type": "execute_result",
          "data": {
            "text/html": [
              "<div>\n",
              "<style scoped>\n",
              "    .dataframe tbody tr th:only-of-type {\n",
              "        vertical-align: middle;\n",
              "    }\n",
              "\n",
              "    .dataframe tbody tr th {\n",
              "        vertical-align: top;\n",
              "    }\n",
              "\n",
              "    .dataframe thead th {\n",
              "        text-align: right;\n",
              "    }\n",
              "</style>\n",
              "<table border=\"1\" class=\"dataframe\">\n",
              "  <thead>\n",
              "    <tr style=\"text-align: right;\">\n",
              "      <th></th>\n",
              "      <th>Name</th>\n",
              "      <th>Age</th>\n",
              "      <th>Country</th>\n",
              "      <th>Salary</th>\n",
              "      <th>Gender</th>\n",
              "    </tr>\n",
              "  </thead>\n",
              "  <tbody>\n",
              "    <tr>\n",
              "      <th>0</th>\n",
              "      <td>A</td>\n",
              "      <td>56</td>\n",
              "      <td>Poland</td>\n",
              "      <td>1000</td>\n",
              "      <td>M</td>\n",
              "    </tr>\n",
              "    <tr>\n",
              "      <th>1</th>\n",
              "      <td>B</td>\n",
              "      <td>44</td>\n",
              "      <td>Poland</td>\n",
              "      <td>2000</td>\n",
              "      <td>F</td>\n",
              "    </tr>\n",
              "    <tr>\n",
              "      <th>3</th>\n",
              "      <td>D</td>\n",
              "      <td>44</td>\n",
              "      <td>UK</td>\n",
              "      <td>5444</td>\n",
              "      <td>F</td>\n",
              "    </tr>\n",
              "  </tbody>\n",
              "</table>\n",
              "</div>"
            ],
            "text/plain": [
              "  Name  Age Country  Salary Gender\n",
              "0    A   56  Poland    1000      M\n",
              "1    B   44  Poland    2000      F\n",
              "3    D   44      UK    5444      F"
            ]
          },
          "metadata": {},
          "execution_count": 83
        }
      ]
    },
    {
      "cell_type": "code",
      "metadata": {
        "colab": {
          "base_uri": "https://localhost:8080/"
        },
        "id": "bRTvmLOElCuc",
        "outputId": "3e812e14-0dea-4f5a-c891-dfadfaefe7ec"
      },
      "source": [
        "len(df_f5[df_f5['Age']>40])"
      ],
      "execution_count": null,
      "outputs": [
        {
          "output_type": "execute_result",
          "data": {
            "text/plain": [
              "3"
            ]
          },
          "metadata": {},
          "execution_count": 84
        }
      ]
    },
    {
      "cell_type": "code",
      "metadata": {
        "colab": {
          "base_uri": "https://localhost:8080/",
          "height": 142
        },
        "id": "0BHJqMi3lJRK",
        "outputId": "d9d1ea05-49b2-42be-b26c-ece8bf2a40b6"
      },
      "source": [
        "import pandas as pd\n",
        "#iloc, loc\n",
        "col_1 =[10,20,30]\n",
        "col_2 =['A','Z','F']\n",
        "col_3 =[True, False, True]\n",
        "ind = ['a','b','c']\n",
        "\n",
        "data_i =pd.DataFrame({'col1':col_1,'col2':col_2,'col3':col_3},ind)\n",
        "data_i"
      ],
      "execution_count": null,
      "outputs": [
        {
          "output_type": "execute_result",
          "data": {
            "text/html": [
              "<div>\n",
              "<style scoped>\n",
              "    .dataframe tbody tr th:only-of-type {\n",
              "        vertical-align: middle;\n",
              "    }\n",
              "\n",
              "    .dataframe tbody tr th {\n",
              "        vertical-align: top;\n",
              "    }\n",
              "\n",
              "    .dataframe thead th {\n",
              "        text-align: right;\n",
              "    }\n",
              "</style>\n",
              "<table border=\"1\" class=\"dataframe\">\n",
              "  <thead>\n",
              "    <tr style=\"text-align: right;\">\n",
              "      <th></th>\n",
              "      <th>col1</th>\n",
              "      <th>col2</th>\n",
              "      <th>col3</th>\n",
              "    </tr>\n",
              "  </thead>\n",
              "  <tbody>\n",
              "    <tr>\n",
              "      <th>a</th>\n",
              "      <td>10</td>\n",
              "      <td>A</td>\n",
              "      <td>True</td>\n",
              "    </tr>\n",
              "    <tr>\n",
              "      <th>b</th>\n",
              "      <td>20</td>\n",
              "      <td>Z</td>\n",
              "      <td>False</td>\n",
              "    </tr>\n",
              "    <tr>\n",
              "      <th>c</th>\n",
              "      <td>30</td>\n",
              "      <td>F</td>\n",
              "      <td>True</td>\n",
              "    </tr>\n",
              "  </tbody>\n",
              "</table>\n",
              "</div>"
            ],
            "text/plain": [
              "   col1 col2   col3\n",
              "a    10    A   True\n",
              "b    20    Z  False\n",
              "c    30    F   True"
            ]
          },
          "metadata": {},
          "execution_count": 85
        }
      ]
    },
    {
      "cell_type": "code",
      "metadata": {
        "colab": {
          "base_uri": "https://localhost:8080/"
        },
        "id": "Yy8_a-01kZH2",
        "outputId": "a8959123-9da3-489c-9d02-957ceb3f9f66"
      },
      "source": [
        "print(data_i['col1'][0:2])"
      ],
      "execution_count": null,
      "outputs": [
        {
          "output_type": "stream",
          "name": "stdout",
          "text": [
            "a    10\n",
            "b    20\n",
            "Name: col1, dtype: int64\n"
          ]
        }
      ]
    },
    {
      "cell_type": "code",
      "metadata": {
        "colab": {
          "base_uri": "https://localhost:8080/"
        },
        "id": "3Y09et36nx40",
        "outputId": "8aa2038d-7303-4c87-91a0-753286a7b71c"
      },
      "source": [
        "print(data_i['col1']['a'])"
      ],
      "execution_count": null,
      "outputs": [
        {
          "output_type": "stream",
          "name": "stdout",
          "text": [
            "10\n"
          ]
        }
      ]
    },
    {
      "cell_type": "code",
      "metadata": {
        "colab": {
          "base_uri": "https://localhost:8080/"
        },
        "id": "DZhO4NOgn-cw",
        "outputId": "fd9b7645-2751-45dc-f249-640546c74c0f"
      },
      "source": [
        "print(data_i.iloc[0,1])"
      ],
      "execution_count": null,
      "outputs": [
        {
          "output_type": "stream",
          "name": "stdout",
          "text": [
            "A\n"
          ]
        }
      ]
    },
    {
      "cell_type": "code",
      "metadata": {
        "colab": {
          "base_uri": "https://localhost:8080/"
        },
        "id": "Sr7lgmTAoHhP",
        "outputId": "6ff6f62a-ec17-4377-e484-7d0e043ee824"
      },
      "source": [
        "print(data_i.loc['a','col2'])"
      ],
      "execution_count": null,
      "outputs": [
        {
          "output_type": "stream",
          "name": "stdout",
          "text": [
            "A\n"
          ]
        }
      ]
    },
    {
      "cell_type": "code",
      "metadata": {
        "colab": {
          "base_uri": "https://localhost:8080/"
        },
        "id": "qer_XSlDo5rC",
        "outputId": "98d769a7-9cf1-4551-9936-2d079ae4b0dd"
      },
      "source": [
        "import time\n",
        "\n",
        "path_a='/content/drive/MyDrive/DS/PAD/PAD_02/Zadanie_4.csv'\n",
        "start = time.time()\n",
        "df_a = pd.read_csv(path_a, sep=';')\n",
        "end = time.time()\n",
        "df_a.head()\n",
        "print(df_a.sum())\n",
        "print('time: ', end-start)"
      ],
      "execution_count": null,
      "outputs": [
        {
          "output_type": "stream",
          "name": "stdout",
          "text": [
            "A    9504595\n",
            "dtype: int64\n",
            "time:  0.09482455253601074\n"
          ]
        }
      ]
    },
    {
      "cell_type": "code",
      "metadata": {
        "colab": {
          "base_uri": "https://localhost:8080/"
        },
        "id": "pkDqIC_bqeBQ",
        "outputId": "2f7c0506-a895-4659-9bda-48dc39193a7b"
      },
      "source": [
        "import csv\n",
        "sum_count =0\n",
        "start= time.time()\n",
        "with open(path_a, newline='') as dff:\n",
        "  line_reader = csv.reader(dff, delimiter=';')\n",
        "  next(line_reader)\n",
        "  for row in line_reader:\n",
        "    sum_count += int(row[0])\n",
        "end= time.time()\n",
        "print(sum_count)\n",
        "print('time: ', end-start)"
      ],
      "execution_count": null,
      "outputs": [
        {
          "output_type": "stream",
          "name": "stdout",
          "text": [
            "9504595\n",
            "time:  0.580625057220459\n"
          ]
        }
      ]
    },
    {
      "cell_type": "code",
      "metadata": {
        "colab": {
          "base_uri": "https://localhost:8080/",
          "height": 203
        },
        "id": "j9z4SCiLuNWn",
        "outputId": "98446d20-fc18-437c-e558-ca815cc54f1e"
      },
      "source": [
        "path7 ='/content/drive/MyDrive/DS/PAD/PAD_02/pad_lab_02_db.csv'\n",
        "\n",
        "df7 =pd.read_csv(path7, sep=';')\n",
        "df7\n",
        "\n",
        "def isOver(x):\n",
        "  if x > 40:\n",
        "    return 1\n",
        "  else:\n",
        "    return 0\n",
        "\n",
        "df7['Over40']= df7['Age'].apply(isOver)\n",
        "df7.head()\n"
      ],
      "execution_count": null,
      "outputs": [
        {
          "output_type": "execute_result",
          "data": {
            "text/html": [
              "<div>\n",
              "<style scoped>\n",
              "    .dataframe tbody tr th:only-of-type {\n",
              "        vertical-align: middle;\n",
              "    }\n",
              "\n",
              "    .dataframe tbody tr th {\n",
              "        vertical-align: top;\n",
              "    }\n",
              "\n",
              "    .dataframe thead th {\n",
              "        text-align: right;\n",
              "    }\n",
              "</style>\n",
              "<table border=\"1\" class=\"dataframe\">\n",
              "  <thead>\n",
              "    <tr style=\"text-align: right;\">\n",
              "      <th></th>\n",
              "      <th>Name</th>\n",
              "      <th>Age</th>\n",
              "      <th>Country</th>\n",
              "      <th>Salary</th>\n",
              "      <th>Gender</th>\n",
              "      <th>Over40</th>\n",
              "    </tr>\n",
              "  </thead>\n",
              "  <tbody>\n",
              "    <tr>\n",
              "      <th>0</th>\n",
              "      <td>A</td>\n",
              "      <td>56</td>\n",
              "      <td>Poland</td>\n",
              "      <td>1000</td>\n",
              "      <td>M</td>\n",
              "      <td>1</td>\n",
              "    </tr>\n",
              "    <tr>\n",
              "      <th>1</th>\n",
              "      <td>B</td>\n",
              "      <td>44</td>\n",
              "      <td>Poland</td>\n",
              "      <td>2000</td>\n",
              "      <td>F</td>\n",
              "      <td>1</td>\n",
              "    </tr>\n",
              "    <tr>\n",
              "      <th>2</th>\n",
              "      <td>C</td>\n",
              "      <td>32</td>\n",
              "      <td>UK</td>\n",
              "      <td>4678</td>\n",
              "      <td>F</td>\n",
              "      <td>0</td>\n",
              "    </tr>\n",
              "    <tr>\n",
              "      <th>3</th>\n",
              "      <td>D</td>\n",
              "      <td>44</td>\n",
              "      <td>UK</td>\n",
              "      <td>5444</td>\n",
              "      <td>F</td>\n",
              "      <td>1</td>\n",
              "    </tr>\n",
              "    <tr>\n",
              "      <th>4</th>\n",
              "      <td>E</td>\n",
              "      <td>32</td>\n",
              "      <td>UK</td>\n",
              "      <td>2223</td>\n",
              "      <td>F</td>\n",
              "      <td>0</td>\n",
              "    </tr>\n",
              "  </tbody>\n",
              "</table>\n",
              "</div>"
            ],
            "text/plain": [
              "  Name  Age Country  Salary Gender  Over40\n",
              "0    A   56  Poland    1000      M       1\n",
              "1    B   44  Poland    2000      F       1\n",
              "2    C   32      UK    4678      F       0\n",
              "3    D   44      UK    5444      F       1\n",
              "4    E   32      UK    2223      F       0"
            ]
          },
          "metadata": {},
          "execution_count": 92
        }
      ]
    },
    {
      "cell_type": "code",
      "metadata": {
        "colab": {
          "base_uri": "https://localhost:8080/",
          "height": 388
        },
        "id": "NSIQIfIfwAHv",
        "outputId": "5d82664e-085e-4a36-c47a-1b472cdc2acf"
      },
      "source": [
        "def age_in_months (x,y):\n",
        "  return x * y\n",
        "\n",
        "df7['AgeM'] = df7['Age'].apply(age_in_months, args=[12])\n",
        "df7"
      ],
      "execution_count": null,
      "outputs": [
        {
          "output_type": "execute_result",
          "data": {
            "text/html": [
              "<div>\n",
              "<style scoped>\n",
              "    .dataframe tbody tr th:only-of-type {\n",
              "        vertical-align: middle;\n",
              "    }\n",
              "\n",
              "    .dataframe tbody tr th {\n",
              "        vertical-align: top;\n",
              "    }\n",
              "\n",
              "    .dataframe thead th {\n",
              "        text-align: right;\n",
              "    }\n",
              "</style>\n",
              "<table border=\"1\" class=\"dataframe\">\n",
              "  <thead>\n",
              "    <tr style=\"text-align: right;\">\n",
              "      <th></th>\n",
              "      <th>Name</th>\n",
              "      <th>Age</th>\n",
              "      <th>Country</th>\n",
              "      <th>Salary</th>\n",
              "      <th>Gender</th>\n",
              "      <th>Over40</th>\n",
              "      <th>AgeM</th>\n",
              "    </tr>\n",
              "  </thead>\n",
              "  <tbody>\n",
              "    <tr>\n",
              "      <th>0</th>\n",
              "      <td>A</td>\n",
              "      <td>56</td>\n",
              "      <td>Poland</td>\n",
              "      <td>1000</td>\n",
              "      <td>M</td>\n",
              "      <td>1</td>\n",
              "      <td>672</td>\n",
              "    </tr>\n",
              "    <tr>\n",
              "      <th>1</th>\n",
              "      <td>B</td>\n",
              "      <td>44</td>\n",
              "      <td>Poland</td>\n",
              "      <td>2000</td>\n",
              "      <td>F</td>\n",
              "      <td>1</td>\n",
              "      <td>528</td>\n",
              "    </tr>\n",
              "    <tr>\n",
              "      <th>2</th>\n",
              "      <td>C</td>\n",
              "      <td>32</td>\n",
              "      <td>UK</td>\n",
              "      <td>4678</td>\n",
              "      <td>F</td>\n",
              "      <td>0</td>\n",
              "      <td>384</td>\n",
              "    </tr>\n",
              "    <tr>\n",
              "      <th>3</th>\n",
              "      <td>D</td>\n",
              "      <td>44</td>\n",
              "      <td>UK</td>\n",
              "      <td>5444</td>\n",
              "      <td>F</td>\n",
              "      <td>1</td>\n",
              "      <td>528</td>\n",
              "    </tr>\n",
              "    <tr>\n",
              "      <th>4</th>\n",
              "      <td>E</td>\n",
              "      <td>32</td>\n",
              "      <td>UK</td>\n",
              "      <td>2223</td>\n",
              "      <td>F</td>\n",
              "      <td>0</td>\n",
              "      <td>384</td>\n",
              "    </tr>\n",
              "    <tr>\n",
              "      <th>5</th>\n",
              "      <td>F</td>\n",
              "      <td>56</td>\n",
              "      <td>Ireland</td>\n",
              "      <td>4567</td>\n",
              "      <td>F</td>\n",
              "      <td>1</td>\n",
              "      <td>672</td>\n",
              "    </tr>\n",
              "    <tr>\n",
              "      <th>6</th>\n",
              "      <td>J</td>\n",
              "      <td>22</td>\n",
              "      <td>Ireland</td>\n",
              "      <td>7786</td>\n",
              "      <td>F</td>\n",
              "      <td>0</td>\n",
              "      <td>264</td>\n",
              "    </tr>\n",
              "    <tr>\n",
              "      <th>7</th>\n",
              "      <td>Z</td>\n",
              "      <td>34</td>\n",
              "      <td>Ukraine</td>\n",
              "      <td>6544</td>\n",
              "      <td>M</td>\n",
              "      <td>0</td>\n",
              "      <td>408</td>\n",
              "    </tr>\n",
              "    <tr>\n",
              "      <th>8</th>\n",
              "      <td>D</td>\n",
              "      <td>37</td>\n",
              "      <td>Iukraine</td>\n",
              "      <td>5444</td>\n",
              "      <td>M</td>\n",
              "      <td>0</td>\n",
              "      <td>444</td>\n",
              "    </tr>\n",
              "    <tr>\n",
              "      <th>9</th>\n",
              "      <td>D</td>\n",
              "      <td>26</td>\n",
              "      <td>Iukraine</td>\n",
              "      <td>2345</td>\n",
              "      <td>M</td>\n",
              "      <td>0</td>\n",
              "      <td>312</td>\n",
              "    </tr>\n",
              "    <tr>\n",
              "      <th>10</th>\n",
              "      <td>F</td>\n",
              "      <td>55</td>\n",
              "      <td>Russia</td>\n",
              "      <td>9877</td>\n",
              "      <td>M</td>\n",
              "      <td>1</td>\n",
              "      <td>660</td>\n",
              "    </tr>\n",
              "  </tbody>\n",
              "</table>\n",
              "</div>"
            ],
            "text/plain": [
              "   Name  Age   Country  Salary Gender  Over40  AgeM\n",
              "0     A   56    Poland    1000      M       1   672\n",
              "1     B   44    Poland    2000      F       1   528\n",
              "2     C   32        UK    4678      F       0   384\n",
              "3     D   44        UK    5444      F       1   528\n",
              "4     E   32        UK    2223      F       0   384\n",
              "5     F   56   Ireland    4567      F       1   672\n",
              "6     J   22   Ireland    7786      F       0   264\n",
              "7     Z   34   Ukraine    6544      M       0   408\n",
              "8     D   37  Iukraine    5444      M       0   444\n",
              "9     D   26  Iukraine    2345      M       0   312\n",
              "10    F   55    Russia    9877      M       1   660"
            ]
          },
          "metadata": {},
          "execution_count": 93
        }
      ]
    },
    {
      "cell_type": "code",
      "metadata": {
        "id": "Q6Vc0YkJxhCs"
      },
      "source": [
        "def get_range(x):\n",
        "  if x in range(0,19):\n",
        "    return 0\n",
        "  elif x in range(19,35):\n",
        "    return 2\n",
        "  elif x in range(35,55):\n",
        "    return 3\n",
        "  else:\n",
        "    return 4\n"
      ],
      "execution_count": null,
      "outputs": []
    },
    {
      "cell_type": "code",
      "metadata": {
        "colab": {
          "base_uri": "https://localhost:8080/",
          "height": 203
        },
        "id": "RKha-ulTy5sh",
        "outputId": "8347d265-9ec3-4537-cb1c-c7fa1163e6ac"
      },
      "source": [
        "df7['AgeRange'] = df7['Age'].apply(get_range)\n",
        "df7.head()"
      ],
      "execution_count": null,
      "outputs": [
        {
          "output_type": "execute_result",
          "data": {
            "text/html": [
              "<div>\n",
              "<style scoped>\n",
              "    .dataframe tbody tr th:only-of-type {\n",
              "        vertical-align: middle;\n",
              "    }\n",
              "\n",
              "    .dataframe tbody tr th {\n",
              "        vertical-align: top;\n",
              "    }\n",
              "\n",
              "    .dataframe thead th {\n",
              "        text-align: right;\n",
              "    }\n",
              "</style>\n",
              "<table border=\"1\" class=\"dataframe\">\n",
              "  <thead>\n",
              "    <tr style=\"text-align: right;\">\n",
              "      <th></th>\n",
              "      <th>Name</th>\n",
              "      <th>Age</th>\n",
              "      <th>Country</th>\n",
              "      <th>Salary</th>\n",
              "      <th>Gender</th>\n",
              "      <th>Over40</th>\n",
              "      <th>AgeM</th>\n",
              "      <th>AgeRange</th>\n",
              "    </tr>\n",
              "  </thead>\n",
              "  <tbody>\n",
              "    <tr>\n",
              "      <th>0</th>\n",
              "      <td>A</td>\n",
              "      <td>56</td>\n",
              "      <td>Poland</td>\n",
              "      <td>1000</td>\n",
              "      <td>M</td>\n",
              "      <td>1</td>\n",
              "      <td>672</td>\n",
              "      <td>4</td>\n",
              "    </tr>\n",
              "    <tr>\n",
              "      <th>1</th>\n",
              "      <td>B</td>\n",
              "      <td>44</td>\n",
              "      <td>Poland</td>\n",
              "      <td>2000</td>\n",
              "      <td>F</td>\n",
              "      <td>1</td>\n",
              "      <td>528</td>\n",
              "      <td>3</td>\n",
              "    </tr>\n",
              "    <tr>\n",
              "      <th>2</th>\n",
              "      <td>C</td>\n",
              "      <td>32</td>\n",
              "      <td>UK</td>\n",
              "      <td>4678</td>\n",
              "      <td>F</td>\n",
              "      <td>0</td>\n",
              "      <td>384</td>\n",
              "      <td>2</td>\n",
              "    </tr>\n",
              "    <tr>\n",
              "      <th>3</th>\n",
              "      <td>D</td>\n",
              "      <td>44</td>\n",
              "      <td>UK</td>\n",
              "      <td>5444</td>\n",
              "      <td>F</td>\n",
              "      <td>1</td>\n",
              "      <td>528</td>\n",
              "      <td>3</td>\n",
              "    </tr>\n",
              "    <tr>\n",
              "      <th>4</th>\n",
              "      <td>E</td>\n",
              "      <td>32</td>\n",
              "      <td>UK</td>\n",
              "      <td>2223</td>\n",
              "      <td>F</td>\n",
              "      <td>0</td>\n",
              "      <td>384</td>\n",
              "      <td>2</td>\n",
              "    </tr>\n",
              "  </tbody>\n",
              "</table>\n",
              "</div>"
            ],
            "text/plain": [
              "  Name  Age Country  Salary Gender  Over40  AgeM  AgeRange\n",
              "0    A   56  Poland    1000      M       1   672         4\n",
              "1    B   44  Poland    2000      F       1   528         3\n",
              "2    C   32      UK    4678      F       0   384         2\n",
              "3    D   44      UK    5444      F       1   528         3\n",
              "4    E   32      UK    2223      F       0   384         2"
            ]
          },
          "metadata": {},
          "execution_count": 95
        }
      ]
    }
  ]
}