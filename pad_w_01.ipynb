{
  "nbformat": 4,
  "nbformat_minor": 0,
  "metadata": {
    "colab": {
      "name": "pad_w_01.ipynb",
      "provenance": [],
      "collapsed_sections": [],
      "include_colab_link": true
    },
    "kernelspec": {
      "name": "python3",
      "display_name": "Python 3"
    },
    "language_info": {
      "name": "python"
    }
  },
  "cells": [
    {
      "cell_type": "markdown",
      "metadata": {
        "id": "view-in-github",
        "colab_type": "text"
      },
      "source": [
        "<a href=\"https://colab.research.google.com/github/s23912/pad_practicals/blob/main/pad_w_01.ipynb\" target=\"_parent\"><img src=\"https://colab.research.google.com/assets/colab-badge.svg\" alt=\"Open In Colab\"/></a>"
      ]
    },
    {
      "cell_type": "code",
      "metadata": {
        "id": "NE42lQWSF3_A",
        "colab": {
          "base_uri": "https://localhost:8080/"
        },
        "outputId": "7ba235f2-2f09-47d6-9205-92d42cbc8fc9"
      },
      "source": [
        "#\n",
        "print(\"First line of python code\")"
      ],
      "execution_count": null,
      "outputs": [
        {
          "output_type": "stream",
          "name": "stdout",
          "text": [
            "First line of python code\n"
          ]
        }
      ]
    },
    {
      "cell_type": "code",
      "metadata": {
        "id": "cx99zkl_Lphg"
      },
      "source": [
        "a=1\n",
        "b=1.0\n",
        "c='string'\n",
        "d=[1,2,3,4]\n"
      ],
      "execution_count": null,
      "outputs": []
    },
    {
      "cell_type": "code",
      "metadata": {
        "colab": {
          "base_uri": "https://localhost:8080/"
        },
        "id": "6mhrDiIzNM-E",
        "outputId": "227367e0-df3f-4fe3-ba59-dcd8d30dc750"
      },
      "source": [
        "v1 = 1\n",
        "def func_01():\n",
        "  global v1\n",
        "  v1 = v1+1\n",
        "  return v1\n",
        "print('value: ', func_01())"
      ],
      "execution_count": null,
      "outputs": [
        {
          "output_type": "stream",
          "name": "stdout",
          "text": [
            "value:  2\n"
          ]
        }
      ]
    },
    {
      "cell_type": "code",
      "metadata": {
        "colab": {
          "base_uri": "https://localhost:8080/"
        },
        "id": "NzQjs9KONpz5",
        "outputId": "c9ce202b-547f-4cda-c8e8-214864733c51"
      },
      "source": [
        "v2=2\n",
        "def func_02():\n",
        "  global v2\n",
        "  v2=v2+2\n",
        "  return v2\n",
        "print(\"second line of code:\", func_02())"
      ],
      "execution_count": null,
      "outputs": [
        {
          "output_type": "stream",
          "name": "stdout",
          "text": [
            "second line of code: 4\n"
          ]
        }
      ]
    },
    {
      "cell_type": "code",
      "metadata": {
        "colab": {
          "base_uri": "https://localhost:8080/"
        },
        "id": "rA5VFaKhOArL",
        "outputId": "a595c3b0-0150-44d9-9932-3ae7f9a8214c"
      },
      "source": [
        "#Generators \n",
        "v2 = 1\n",
        "def func_03():\n",
        "  global v2\n",
        "  v2=v2+1\n",
        "  return v2\n",
        "print(\"no function, value = \", v2)\n",
        "print(\"first time func: \", func_03())\n",
        "print(\"second time func: \", func_03())\n",
        "print(\"3 time func: \", func_03())\n",
        "print('vale v3 after some iterations: ', v2)\n",
        "type(v2)"
      ],
      "execution_count": null,
      "outputs": [
        {
          "output_type": "stream",
          "name": "stdout",
          "text": [
            "no function, value =  1\n",
            "first time func:  2\n",
            "second time func:  3\n",
            "3 time func:  4\n",
            "vale v3 after some iterations:  4\n"
          ]
        },
        {
          "output_type": "execute_result",
          "data": {
            "text/plain": [
              "int"
            ]
          },
          "metadata": {},
          "execution_count": 7
        }
      ]
    },
    {
      "cell_type": "code",
      "metadata": {
        "id": "As-pvnPrRr7d"
      },
      "source": [
        "#Collections\n",
        "#list, set, tupple, dictionary"
      ],
      "execution_count": null,
      "outputs": []
    },
    {
      "cell_type": "code",
      "metadata": {
        "colab": {
          "base_uri": "https://localhost:8080/"
        },
        "id": "Udhg-JdNR7qn",
        "outputId": "3ce4c19e-0f53-40c5-b232-e5a8aded9a37"
      },
      "source": [
        "#Lists\n",
        "List_01 = [1,2,3,4.0, \"txt\"]\n",
        "List_01\n",
        "List_01[0]\n",
        "List_02 = list()\n",
        "List_02.append(1)\n",
        "List_02.append(2)\n",
        "print(List_02[0])\n",
        "print(List_02[1])\n",
        "print(List_02[-1])"
      ],
      "execution_count": null,
      "outputs": [
        {
          "output_type": "stream",
          "name": "stdout",
          "text": [
            "1\n",
            "2\n",
            "2\n"
          ]
        }
      ]
    },
    {
      "cell_type": "code",
      "metadata": {
        "colab": {
          "base_uri": "https://localhost:8080/"
        },
        "id": "ESEkj_YETGRS",
        "outputId": "93a63892-72de-4d22-c8e3-f44f4d128fa2"
      },
      "source": [
        "L3=[20, 0,1,2,3,4,5,4,6,7,8,9]\n",
        "print(L_03[0:10])"
      ],
      "execution_count": null,
      "outputs": [
        {
          "output_type": "stream",
          "name": "stdout",
          "text": [
            "[20, 0, 1, 2, 3, 4, 5, 4, 6, 7]\n"
          ]
        }
      ]
    },
    {
      "cell_type": "code",
      "metadata": {
        "colab": {
          "base_uri": "https://localhost:8080/"
        },
        "id": "xZa_XxJxfKnG",
        "outputId": "fbb2801a-fa81-4a6a-fb08-abc6193ef2da"
      },
      "source": [
        "L3.count(4)"
      ],
      "execution_count": null,
      "outputs": [
        {
          "output_type": "execute_result",
          "data": {
            "text/plain": [
              "2"
            ]
          },
          "metadata": {},
          "execution_count": 29
        }
      ]
    },
    {
      "cell_type": "code",
      "metadata": {
        "colab": {
          "base_uri": "https://localhost:8080/"
        },
        "id": "FxgYGVtjfosh",
        "outputId": "31725c79-6892-4187-9cae-dac6493af84e"
      },
      "source": [
        "L3.sort()\n",
        "L3"
      ],
      "execution_count": null,
      "outputs": [
        {
          "output_type": "execute_result",
          "data": {
            "text/plain": [
              "[0, 1, 2, 3, 4, 4, 5, 6, 7, 8, 9, 20]"
            ]
          },
          "metadata": {},
          "execution_count": 30
        }
      ]
    },
    {
      "cell_type": "code",
      "metadata": {
        "colab": {
          "base_uri": "https://localhost:8080/"
        },
        "id": "Aq9TIEhnf1wp",
        "outputId": "4da109c2-c5ed-4e43-9a76-8e74bbb2a982"
      },
      "source": [
        "L3.index(4)"
      ],
      "execution_count": null,
      "outputs": [
        {
          "output_type": "execute_result",
          "data": {
            "text/plain": [
              "4"
            ]
          },
          "metadata": {},
          "execution_count": 31
        }
      ]
    },
    {
      "cell_type": "code",
      "metadata": {
        "colab": {
          "base_uri": "https://localhost:8080/"
        },
        "id": "-ZKz6aFtf5do",
        "outputId": "3a87e8b7-5e62-4f3c-c07e-7de58c0d5fcf"
      },
      "source": [
        "L3.insert(4,500 )\n",
        "L3"
      ],
      "execution_count": null,
      "outputs": [
        {
          "output_type": "execute_result",
          "data": {
            "text/plain": [
              "[0, 1, 2, 3, 500, 4, 4, 5, 6, 7, 8, 9, 20]"
            ]
          },
          "metadata": {},
          "execution_count": 32
        }
      ]
    },
    {
      "cell_type": "code",
      "metadata": {
        "colab": {
          "base_uri": "https://localhost:8080/"
        },
        "id": "P5RR1eL_gfvy",
        "outputId": "9b5c1405-4890-4f99-a333-1b3f93dfaa5f"
      },
      "source": [
        "L3.pop(4)\n",
        "L3"
      ],
      "execution_count": null,
      "outputs": [
        {
          "output_type": "execute_result",
          "data": {
            "text/plain": [
              "[0, 1, 2, 3, 4, 4, 5, 6, 7, 8, 9, 20]"
            ]
          },
          "metadata": {},
          "execution_count": 33
        }
      ]
    },
    {
      "cell_type": "code",
      "metadata": {
        "colab": {
          "base_uri": "https://localhost:8080/"
        },
        "id": "itYKnRiKgt_u",
        "outputId": "cb9bfd00-f909-4ae6-c47d-6a17066546dc"
      },
      "source": [
        "L3.pop()\n",
        "L3"
      ],
      "execution_count": null,
      "outputs": [
        {
          "output_type": "execute_result",
          "data": {
            "text/plain": [
              "[0, 1, 2, 3, 4, 4, 5, 6, 7, 8, 9]"
            ]
          },
          "metadata": {},
          "execution_count": 34
        }
      ]
    },
    {
      "cell_type": "code",
      "metadata": {
        "colab": {
          "base_uri": "https://localhost:8080/"
        },
        "id": "B7Rooa-Kg26g",
        "outputId": "fb34d89f-3013-43a2-af5c-74d416da8acc"
      },
      "source": [
        "tm2=L3.pop()\n",
        "tm2\n",
        "L3"
      ],
      "execution_count": null,
      "outputs": [
        {
          "output_type": "execute_result",
          "data": {
            "text/plain": [
              "[0, 1, 2]"
            ]
          },
          "metadata": {},
          "execution_count": 44
        }
      ]
    },
    {
      "cell_type": "code",
      "metadata": {
        "colab": {
          "base_uri": "https://localhost:8080/"
        },
        "id": "32A5vbqghC0D",
        "outputId": "b462f5cc-2f7b-4933-f960-cbf16de713be"
      },
      "source": [
        "L3.append(44)\n",
        "L3"
      ],
      "execution_count": null,
      "outputs": [
        {
          "output_type": "execute_result",
          "data": {
            "text/plain": [
              "[0, 1, 2, 44]"
            ]
          },
          "metadata": {},
          "execution_count": 45
        }
      ]
    },
    {
      "cell_type": "code",
      "metadata": {
        "colab": {
          "base_uri": "https://localhost:8080/"
        },
        "id": "j0CminLZiDx9",
        "outputId": "361312b4-57d9-47eb-ebc2-46fb1391abc4"
      },
      "source": [
        "L4 = list()\n",
        "L4.append(2)\n",
        "L4\n",
        "L4.extend(L3)\n",
        "L4"
      ],
      "execution_count": null,
      "outputs": [
        {
          "output_type": "execute_result",
          "data": {
            "text/plain": [
              "[2, 0, 1, 2, 44]"
            ]
          },
          "metadata": {},
          "execution_count": 48
        }
      ]
    },
    {
      "cell_type": "code",
      "metadata": {
        "colab": {
          "base_uri": "https://localhost:8080/"
        },
        "id": "ZK7IVcQiTp8w",
        "outputId": "56ebd86d-af01-4601-fb77-348aac218b71"
      },
      "source": [
        "L5 = [[1,2,3],[10,20,30]]\n",
        "print(L5[1][2])"
      ],
      "execution_count": null,
      "outputs": [
        {
          "output_type": "stream",
          "name": "stdout",
          "text": [
            "30\n"
          ]
        }
      ]
    },
    {
      "cell_type": "code",
      "metadata": {
        "colab": {
          "base_uri": "https://localhost:8080/"
        },
        "id": "MM64ZxMdlXuT",
        "outputId": "879d3217-542a-4dc4-b147-218c817ab9a1"
      },
      "source": [
        "L5.append(100)\n",
        "L5"
      ],
      "execution_count": null,
      "outputs": [
        {
          "output_type": "execute_result",
          "data": {
            "text/plain": [
              "[[1, 2, 3], [10, 20, 30], 100]"
            ]
          },
          "metadata": {},
          "execution_count": 59
        }
      ]
    },
    {
      "cell_type": "code",
      "metadata": {
        "colab": {
          "base_uri": "https://localhost:8080/"
        },
        "id": "4t4ui1GRldgf",
        "outputId": "4553776e-cab9-42c4-cb0d-21b370eb49d1"
      },
      "source": [
        "L5.append([1000,2000])\n",
        "L5"
      ],
      "execution_count": null,
      "outputs": [
        {
          "output_type": "execute_result",
          "data": {
            "text/plain": [
              "[[1, 2, 3], [10, 20, 30], 100, [1000, 2000], [1000, 2000]]"
            ]
          },
          "metadata": {},
          "execution_count": 61
        }
      ]
    },
    {
      "cell_type": "code",
      "metadata": {
        "colab": {
          "base_uri": "https://localhost:8080/"
        },
        "id": "g-QAmwlml-di",
        "outputId": "bcabcc26-530a-49d5-d94a-d2a99ed2cfe3"
      },
      "source": [
        "L6=[[1,2,3],1,1,1,1,1,1]\n",
        "ile=L6.count(1)\n",
        "ile"
      ],
      "execution_count": null,
      "outputs": [
        {
          "output_type": "execute_result",
          "data": {
            "text/plain": [
              "6"
            ]
          },
          "metadata": {},
          "execution_count": 65
        }
      ]
    },
    {
      "cell_type": "code",
      "metadata": {
        "colab": {
          "base_uri": "https://localhost:8080/"
        },
        "id": "3J_nxqJ2mo_M",
        "outputId": "e340bcdc-2250-4004-e367-a88ef9f9a653"
      },
      "source": [
        "L7='maledu4zelitery'\n",
        "L7.capitalize()\n",
        "L7.isalnum()"
      ],
      "execution_count": null,
      "outputs": [
        {
          "output_type": "execute_result",
          "data": {
            "text/plain": [
              "True"
            ]
          },
          "metadata": {},
          "execution_count": 80
        }
      ]
    },
    {
      "cell_type": "code",
      "metadata": {
        "colab": {
          "base_uri": "https://localhost:8080/"
        },
        "id": "YFjICZsp9_mC",
        "outputId": "ff1915f1-7fcc-4353-b29e-a380ac988d90"
      },
      "source": [
        "L7 = [[[1,1],0,0],[3,4],[5,6]]\n",
        "L7[0][0][0]"
      ],
      "execution_count": null,
      "outputs": [
        {
          "output_type": "execute_result",
          "data": {
            "text/plain": [
              "1"
            ]
          },
          "metadata": {},
          "execution_count": 21
        }
      ]
    },
    {
      "cell_type": "code",
      "metadata": {
        "colab": {
          "base_uri": "https://localhost:8080/"
        },
        "id": "bxRH-q9acbXH",
        "outputId": "10e6e94d-b1ed-4538-a5b9-bb612f0aea5d"
      },
      "source": [
        "t1 = (1,2,3,4,5)\n",
        "t1"
      ],
      "execution_count": null,
      "outputs": [
        {
          "output_type": "execute_result",
          "data": {
            "text/plain": [
              "(1, 2, 3, 4, 5)"
            ]
          },
          "metadata": {},
          "execution_count": 6
        }
      ]
    },
    {
      "cell_type": "code",
      "metadata": {
        "colab": {
          "base_uri": "https://localhost:8080/"
        },
        "id": "yNej9nLHcbeF",
        "outputId": "ba26e162-0293-4976-b2c3-6d933e384cd6"
      },
      "source": [
        "s1 = set([1,2,3])\n",
        "s1\n",
        "len(s1)\n",
        "s1.add(5)\n",
        "s1\n",
        "s1.add(2)\n",
        "s1"
      ],
      "execution_count": null,
      "outputs": [
        {
          "output_type": "execute_result",
          "data": {
            "text/plain": [
              "{1, 2, 3, 5}"
            ]
          },
          "metadata": {},
          "execution_count": 11
        }
      ]
    },
    {
      "cell_type": "code",
      "metadata": {
        "colab": {
          "base_uri": "https://localhost:8080/"
        },
        "id": "Kq2Eclcodr8w",
        "outputId": "8bf5f6bc-9a75-495c-9e76-b7d08b323cd3"
      },
      "source": [
        "d1 = dict()\n",
        "d2 = {'_n': 'monique', 'age':27}\n",
        "d2\n",
        "d2['age']\n",
        "d3 = dict( {'n':'karo','id':45939})\n",
        "d3['id']\n",
        "print(d3.keys())\n",
        "print(d3.items())\n",
        "print(d3.values())"
      ],
      "execution_count": null,
      "outputs": [
        {
          "output_type": "stream",
          "name": "stdout",
          "text": [
            "dict_keys(['n', 'id'])\n",
            "dict_items([('n', 'karo'), ('id', 45939)])\n",
            "dict_values(['karo', 45939])\n"
          ]
        }
      ]
    },
    {
      "cell_type": "code",
      "metadata": {
        "colab": {
          "base_uri": "https://localhost:8080/"
        },
        "id": "ZzdGXiumzmyN",
        "outputId": "66eface9-bff2-4487-ec3a-26b770264042"
      },
      "source": [
        "def choose_value(e):  # explain how to work \n",
        "  return(e[1])\n",
        "t_l = [('a',2),('c',1),('b',0)]\n",
        "t_l.sort(key=choose_value, reverse=True)\n",
        "t_l"
      ],
      "execution_count": null,
      "outputs": [
        {
          "output_type": "execute_result",
          "data": {
            "text/plain": [
              "[('a', 2), ('c', 1), ('b', 0)]"
            ]
          },
          "metadata": {},
          "execution_count": 18
        }
      ]
    },
    {
      "cell_type": "code",
      "metadata": {
        "colab": {
          "base_uri": "https://localhost:8080/"
        },
        "id": "UV96tU-N17aH",
        "outputId": "3e6c990c-6618-40c9-82a5-74be90c262b4"
      },
      "source": [
        "z=456\n",
        "if z==0:\n",
        "  print('0')\n",
        "elif z==14:\n",
        "  print('14')\n",
        "else:\n",
        "  print('inna')"
      ],
      "execution_count": null,
      "outputs": [
        {
          "output_type": "stream",
          "name": "stdout",
          "text": [
            "inna\n"
          ]
        }
      ]
    },
    {
      "cell_type": "code",
      "metadata": {
        "colab": {
          "base_uri": "https://localhost:8080/"
        },
        "id": "-ZjNn1RW4KvW",
        "outputId": "292931cb-4aa0-424c-cbc4-dd3f19c1db5c"
      },
      "source": [
        "days=['m','t','w','th','fr']\n",
        "for d in days:\n",
        "  print('today is: ', d)\n",
        "  if d=='w': break"
      ],
      "execution_count": null,
      "outputs": [
        {
          "output_type": "stream",
          "name": "stdout",
          "text": [
            "today is:  m\n",
            "today is:  t\n",
            "today is:  w\n"
          ]
        }
      ]
    },
    {
      "cell_type": "code",
      "metadata": {
        "colab": {
          "base_uri": "https://localhost:8080/"
        },
        "id": "_rUGa3hd4sgR",
        "outputId": "90edd27c-e3a1-4075-ef9d-adea60688275"
      },
      "source": [
        "i=2\n",
        "while i<5:\n",
        "  print(days[i])\n",
        "  if days[i]=='th': break\n",
        "  i=i+1"
      ],
      "execution_count": null,
      "outputs": [
        {
          "output_type": "stream",
          "name": "stdout",
          "text": [
            "w\n",
            "th\n"
          ]
        }
      ]
    },
    {
      "cell_type": "code",
      "metadata": {
        "colab": {
          "base_uri": "https://localhost:8080/"
        },
        "id": "zaHRQGap5xpm",
        "outputId": "5b0074bb-bfba-4ec4-ce36-12d1019aff40"
      },
      "source": [
        "dd = [1,2,3,4,5,6,7]\n",
        "\n",
        "for k in dd:\n",
        "  if k==4: pass\n",
        "  else:\n",
        "    print(\"day \", k)"
      ],
      "execution_count": null,
      "outputs": [
        {
          "output_type": "stream",
          "name": "stdout",
          "text": [
            "day  1\n",
            "day  2\n",
            "day  3\n",
            "day  5\n",
            "day  6\n",
            "day  7\n"
          ]
        }
      ]
    },
    {
      "cell_type": "code",
      "metadata": {
        "colab": {
          "base_uri": "https://localhost:8080/"
        },
        "id": "80f6tgXB6xTi",
        "outputId": "79b6d9dd-5d4f-4215-8468-2f2f3d11835d"
      },
      "source": [
        "ddd = [1,2,3,4,5,6,7]\n",
        "for s in ddd:\n",
        "  if s!=4:\n",
        "    print('day ', s)\n",
        "  else:\n",
        "    pass\n",
        "    #None"
      ],
      "execution_count": null,
      "outputs": [
        {
          "output_type": "stream",
          "name": "stdout",
          "text": [
            "day  1\n",
            "day  2\n",
            "day  3\n",
            "day  5\n",
            "day  6\n",
            "day  7\n"
          ]
        }
      ]
    }
  ]
}