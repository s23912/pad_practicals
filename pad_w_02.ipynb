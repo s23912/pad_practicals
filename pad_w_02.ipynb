{
  "nbformat": 4,
  "nbformat_minor": 0,
  "metadata": {
    "colab": {
      "name": "pad_w_02.ipynb",
      "provenance": [],
      "collapsed_sections": [],
      "include_colab_link": true
    },
    "kernelspec": {
      "name": "python3",
      "display_name": "Python 3"
    },
    "language_info": {
      "name": "python"
    }
  },
  "cells": [
    {
      "cell_type": "markdown",
      "metadata": {
        "id": "view-in-github",
        "colab_type": "text"
      },
      "source": [
        "<a href=\"https://colab.research.google.com/github/s23912/pad_practicals/blob/main/pad_w_02.ipynb\" target=\"_parent\"><img src=\"https://colab.research.google.com/assets/colab-badge.svg\" alt=\"Open In Colab\"/></a>"
      ]
    },
    {
      "cell_type": "code",
      "metadata": {
        "id": "wgI7QQL4KYaZ"
      },
      "source": [
        "import json # to lad json files"
      ],
      "execution_count": null,
      "outputs": []
    },
    {
      "cell_type": "code",
      "metadata": {
        "id": "qgBAE6yWGewZ"
      },
      "source": [
        "import csv"
      ],
      "execution_count": null,
      "outputs": []
    },
    {
      "cell_type": "code",
      "metadata": {
        "id": "mlxPRgWwFXUn"
      },
      "source": [
        "path='/content/drive/MyDrive/DS/PAD/PAD_02/cust_list.csv'\n",
        "path2='/content/drive/MyDrive/DS/PAD/PAD_02/cust_dict.txt'"
      ],
      "execution_count": null,
      "outputs": []
    },
    {
      "cell_type": "code",
      "metadata": {
        "colab": {
          "base_uri": "https://localhost:8080/"
        },
        "id": "4ywNEumFGnbI",
        "outputId": "1d1c9f1e-fa0a-4313-d1b9-fb98c9545f2e"
      },
      "source": [
        "with open(path, newline='') as cf:\n",
        "  spr = csv.reader(cf, delimiter=';', quotechar='|')\n",
        "  for row in spr:\n",
        "    print('* '.join(row))"
      ],
      "execution_count": null,
      "outputs": [
        {
          "output_type": "stream",
          "name": "stdout",
          "text": [
            "k1* k2* k3* h4\n",
            "Tom* 22* True* ih234\n",
            "Ana* 44* False* jh665\n",
            "Max* 55* True* kl455\n",
            "* * * uo999\n"
          ]
        }
      ]
    },
    {
      "cell_type": "code",
      "metadata": {
        "colab": {
          "base_uri": "https://localhost:8080/",
          "height": 229
        },
        "id": "mRXuSKhzTfEx",
        "outputId": "2816fed4-3eb7-44a7-9c08-5e2fba5140d4"
      },
      "source": [
        "with open(path, newline='') as cf2:\n",
        "  re = csv.DictReader(cf2)\n",
        "  for row in re:\n",
        "    print(row['k1'], row['k2'])\n",
        "  # jaki rodziaj pliku mozna w ten sposób wczytywać , czy słownik? \n",
        "  # jesli tak to jak zapisać kolumny \n",
        "  # co oznaczają klucz: wartość w ssv , czy klucz to nazwa kolumny ? jesli tak to czemu nie działa"
      ],
      "execution_count": null,
      "outputs": [
        {
          "output_type": "error",
          "ename": "KeyError",
          "evalue": "ignored",
          "traceback": [
            "\u001b[0;31m---------------------------------------------------------------------------\u001b[0m",
            "\u001b[0;31mKeyError\u001b[0m                                  Traceback (most recent call last)",
            "\u001b[0;32m<ipython-input-60-de2896bbea92>\u001b[0m in \u001b[0;36m<module>\u001b[0;34m()\u001b[0m\n\u001b[1;32m      2\u001b[0m   \u001b[0mre\u001b[0m \u001b[0;34m=\u001b[0m \u001b[0mcsv\u001b[0m\u001b[0;34m.\u001b[0m\u001b[0mDictReader\u001b[0m\u001b[0;34m(\u001b[0m\u001b[0mcf2\u001b[0m\u001b[0;34m)\u001b[0m\u001b[0;34m\u001b[0m\u001b[0;34m\u001b[0m\u001b[0m\n\u001b[1;32m      3\u001b[0m   \u001b[0;32mfor\u001b[0m \u001b[0mrow\u001b[0m \u001b[0;32min\u001b[0m \u001b[0mre\u001b[0m\u001b[0;34m:\u001b[0m\u001b[0;34m\u001b[0m\u001b[0;34m\u001b[0m\u001b[0m\n\u001b[0;32m----> 4\u001b[0;31m     \u001b[0mprint\u001b[0m\u001b[0;34m(\u001b[0m\u001b[0mrow\u001b[0m\u001b[0;34m[\u001b[0m\u001b[0;34m'k1'\u001b[0m\u001b[0;34m]\u001b[0m\u001b[0;34m,\u001b[0m \u001b[0mrow\u001b[0m\u001b[0;34m[\u001b[0m\u001b[0;34m'k2'\u001b[0m\u001b[0;34m]\u001b[0m\u001b[0;34m)\u001b[0m\u001b[0;34m\u001b[0m\u001b[0;34m\u001b[0m\u001b[0m\n\u001b[0m\u001b[1;32m      5\u001b[0m   \u001b[0;31m# jaki rodziaj pliku mozna w ten sposób wczytywać , czy słownik?\u001b[0m\u001b[0;34m\u001b[0m\u001b[0;34m\u001b[0m\u001b[0;34m\u001b[0m\u001b[0m\n\u001b[1;32m      6\u001b[0m   \u001b[0;31m# jesli tak to jak zapisać kolumny\u001b[0m\u001b[0;34m\u001b[0m\u001b[0;34m\u001b[0m\u001b[0;34m\u001b[0m\u001b[0m\n",
            "\u001b[0;31mKeyError\u001b[0m: 'k1'"
          ]
        }
      ]
    },
    {
      "cell_type": "code",
      "metadata": {
        "colab": {
          "base_uri": "https://localhost:8080/"
        },
        "id": "kdB5LUWYX2hm",
        "outputId": "e4f894da-c0a4-40e2-afae-95d63d71c4b6"
      },
      "source": [
        "!sudo apt-get install mysql-connector-python\n",
        "!pip install mysql-connector-python"
      ],
      "execution_count": null,
      "outputs": [
        {
          "output_type": "stream",
          "name": "stdout",
          "text": [
            "Reading package lists... Done\n",
            "Building dependency tree       \n",
            "Reading state information... Done\n",
            "E: Unable to locate package mysql-connector-python\n",
            "Collecting mysql-connector-python\n",
            "  Downloading mysql_connector_python-8.0.27-1commercial-cp37-cp37m-manylinux1_x86_64.whl (37.5 MB)\n",
            "\u001b[K     |████████████████████████████████| 37.5 MB 58 kB/s \n",
            "\u001b[?25hRequirement already satisfied: protobuf>=3.0.0 in /usr/local/lib/python3.7/dist-packages (from mysql-connector-python) (3.17.3)\n",
            "Requirement already satisfied: six>=1.9 in /usr/local/lib/python3.7/dist-packages (from protobuf>=3.0.0->mysql-connector-python) (1.15.0)\n",
            "Installing collected packages: mysql-connector-python\n",
            "Successfully installed mysql-connector-python-8.0.27\n"
          ]
        }
      ]
    },
    {
      "cell_type": "code",
      "metadata": {
        "id": "mtXGW4cEXMIl"
      },
      "source": [
        "import mysql.connector\n",
        "# jakas ksiazka do best practise pracy na bazach lub dumpach "
      ],
      "execution_count": null,
      "outputs": []
    },
    {
      "cell_type": "code",
      "metadata": {
        "id": "uAT0RMAEZmUL"
      },
      "source": [
        "#PANDAS"
      ],
      "execution_count": null,
      "outputs": []
    },
    {
      "cell_type": "code",
      "metadata": {
        "colab": {
          "base_uri": "https://localhost:8080/"
        },
        "id": "zr4z-7jfX_9C",
        "outputId": "6fe8aeba-1746-4cad-e62b-83a00f6aa226"
      },
      "source": [
        "import numpy as np\n",
        "import pandas as pd\n",
        "\n",
        "l=[x for x in range(1,11)]\n",
        "index =['a','b','c','d','e','f','g','h','i','j']\n",
        "dic=dict(zip(index,l))\n",
        "series_from_list = pd.Series(l,index)\n",
        "series_from_dict = pd.Series(dic)\n",
        "print(series_from_dict)\n",
        "print(series_from_list)"
      ],
      "execution_count": null,
      "outputs": [
        {
          "output_type": "stream",
          "name": "stdout",
          "text": [
            "a     1\n",
            "b     2\n",
            "c     3\n",
            "d     4\n",
            "e     5\n",
            "f     6\n",
            "g     7\n",
            "h     8\n",
            "i     9\n",
            "j    10\n",
            "dtype: int64\n",
            "a     1\n",
            "b     2\n",
            "c     3\n",
            "d     4\n",
            "e     5\n",
            "f     6\n",
            "g     7\n",
            "h     8\n",
            "i     9\n",
            "j    10\n",
            "dtype: int64\n"
          ]
        }
      ]
    },
    {
      "cell_type": "code",
      "metadata": {
        "colab": {
          "base_uri": "https://localhost:8080/",
          "height": 172
        },
        "id": "kaQxM85GeWOJ",
        "outputId": "269ddc3e-fff8-4120-d653-1d6458560c2a"
      },
      "source": [
        "names =['T','A','B','C']\n",
        "years =[22,55,66,77]\n",
        "numbers=[5677,666,6666,3224]\n",
        "all ={'years':years,\n",
        "      'numbers':numbers}\n",
        "df = pd.DataFrame(all, index=names)\n",
        "df"
      ],
      "execution_count": null,
      "outputs": [
        {
          "output_type": "execute_result",
          "data": {
            "text/html": [
              "<div>\n",
              "<style scoped>\n",
              "    .dataframe tbody tr th:only-of-type {\n",
              "        vertical-align: middle;\n",
              "    }\n",
              "\n",
              "    .dataframe tbody tr th {\n",
              "        vertical-align: top;\n",
              "    }\n",
              "\n",
              "    .dataframe thead th {\n",
              "        text-align: right;\n",
              "    }\n",
              "</style>\n",
              "<table border=\"1\" class=\"dataframe\">\n",
              "  <thead>\n",
              "    <tr style=\"text-align: right;\">\n",
              "      <th></th>\n",
              "      <th>years</th>\n",
              "      <th>numbers</th>\n",
              "    </tr>\n",
              "  </thead>\n",
              "  <tbody>\n",
              "    <tr>\n",
              "      <th>T</th>\n",
              "      <td>22</td>\n",
              "      <td>5677</td>\n",
              "    </tr>\n",
              "    <tr>\n",
              "      <th>A</th>\n",
              "      <td>55</td>\n",
              "      <td>666</td>\n",
              "    </tr>\n",
              "    <tr>\n",
              "      <th>B</th>\n",
              "      <td>66</td>\n",
              "      <td>6666</td>\n",
              "    </tr>\n",
              "    <tr>\n",
              "      <th>C</th>\n",
              "      <td>77</td>\n",
              "      <td>3224</td>\n",
              "    </tr>\n",
              "  </tbody>\n",
              "</table>\n",
              "</div>"
            ],
            "text/plain": [
              "   years  numbers\n",
              "T     22     5677\n",
              "A     55      666\n",
              "B     66     6666\n",
              "C     77     3224"
            ]
          },
          "metadata": {},
          "execution_count": 64
        }
      ]
    },
    {
      "cell_type": "code",
      "metadata": {
        "colab": {
          "base_uri": "https://localhost:8080/",
          "height": 172
        },
        "id": "JnyK2sZ6AmD9",
        "outputId": "0694b8a7-2e14-42b9-bbfd-3dbee14e9eef"
      },
      "source": [
        "import pandas as pd\n",
        "names2 =['T','A','B','C']\n",
        "years2 =[22,55,66,77]\n",
        "numbers2=[5677,666,6666,3224]\n",
        "all ={'names':names2,\n",
        "      'years':years2,\n",
        "      'numbers':numbers2}\n",
        "df2 = pd.DataFrame(all)\n",
        "df2"
      ],
      "execution_count": null,
      "outputs": [
        {
          "output_type": "execute_result",
          "data": {
            "text/html": [
              "<div>\n",
              "<style scoped>\n",
              "    .dataframe tbody tr th:only-of-type {\n",
              "        vertical-align: middle;\n",
              "    }\n",
              "\n",
              "    .dataframe tbody tr th {\n",
              "        vertical-align: top;\n",
              "    }\n",
              "\n",
              "    .dataframe thead th {\n",
              "        text-align: right;\n",
              "    }\n",
              "</style>\n",
              "<table border=\"1\" class=\"dataframe\">\n",
              "  <thead>\n",
              "    <tr style=\"text-align: right;\">\n",
              "      <th></th>\n",
              "      <th>names</th>\n",
              "      <th>years</th>\n",
              "      <th>numbers</th>\n",
              "    </tr>\n",
              "  </thead>\n",
              "  <tbody>\n",
              "    <tr>\n",
              "      <th>0</th>\n",
              "      <td>T</td>\n",
              "      <td>22</td>\n",
              "      <td>5677</td>\n",
              "    </tr>\n",
              "    <tr>\n",
              "      <th>1</th>\n",
              "      <td>A</td>\n",
              "      <td>55</td>\n",
              "      <td>666</td>\n",
              "    </tr>\n",
              "    <tr>\n",
              "      <th>2</th>\n",
              "      <td>B</td>\n",
              "      <td>66</td>\n",
              "      <td>6666</td>\n",
              "    </tr>\n",
              "    <tr>\n",
              "      <th>3</th>\n",
              "      <td>C</td>\n",
              "      <td>77</td>\n",
              "      <td>3224</td>\n",
              "    </tr>\n",
              "  </tbody>\n",
              "</table>\n",
              "</div>"
            ],
            "text/plain": [
              "  names  years  numbers\n",
              "0     T     22     5677\n",
              "1     A     55      666\n",
              "2     B     66     6666\n",
              "3     C     77     3224"
            ]
          },
          "metadata": {},
          "execution_count": 65
        }
      ]
    },
    {
      "cell_type": "code",
      "metadata": {
        "colab": {
          "base_uri": "https://localhost:8080/",
          "height": 172
        },
        "id": "UAlcy68MByyX",
        "outputId": "f95af53d-9b31-4d3c-f6c0-680e3280e10a"
      },
      "source": [
        "import pandas as pd\n",
        "all3 ={'kol1':['T','A','B','C'],'kol2': [22,55,66,77],'kol3' :[5677,666,6666,3224]}\n",
        "df3 = pd.DataFrame(all3)\n",
        "df3"
      ],
      "execution_count": null,
      "outputs": [
        {
          "output_type": "execute_result",
          "data": {
            "text/html": [
              "<div>\n",
              "<style scoped>\n",
              "    .dataframe tbody tr th:only-of-type {\n",
              "        vertical-align: middle;\n",
              "    }\n",
              "\n",
              "    .dataframe tbody tr th {\n",
              "        vertical-align: top;\n",
              "    }\n",
              "\n",
              "    .dataframe thead th {\n",
              "        text-align: right;\n",
              "    }\n",
              "</style>\n",
              "<table border=\"1\" class=\"dataframe\">\n",
              "  <thead>\n",
              "    <tr style=\"text-align: right;\">\n",
              "      <th></th>\n",
              "      <th>kol1</th>\n",
              "      <th>kol2</th>\n",
              "      <th>kol3</th>\n",
              "    </tr>\n",
              "  </thead>\n",
              "  <tbody>\n",
              "    <tr>\n",
              "      <th>0</th>\n",
              "      <td>T</td>\n",
              "      <td>22</td>\n",
              "      <td>5677</td>\n",
              "    </tr>\n",
              "    <tr>\n",
              "      <th>1</th>\n",
              "      <td>A</td>\n",
              "      <td>55</td>\n",
              "      <td>666</td>\n",
              "    </tr>\n",
              "    <tr>\n",
              "      <th>2</th>\n",
              "      <td>B</td>\n",
              "      <td>66</td>\n",
              "      <td>6666</td>\n",
              "    </tr>\n",
              "    <tr>\n",
              "      <th>3</th>\n",
              "      <td>C</td>\n",
              "      <td>77</td>\n",
              "      <td>3224</td>\n",
              "    </tr>\n",
              "  </tbody>\n",
              "</table>\n",
              "</div>"
            ],
            "text/plain": [
              "  kol1  kol2  kol3\n",
              "0    T    22  5677\n",
              "1    A    55   666\n",
              "2    B    66  6666\n",
              "3    C    77  3224"
            ]
          },
          "metadata": {},
          "execution_count": 66
        }
      ]
    },
    {
      "cell_type": "code",
      "metadata": {
        "colab": {
          "base_uri": "https://localhost:8080/"
        },
        "id": "f3ovLdH6Cxas",
        "outputId": "08c0388b-d5e6-4133-fa37-b1130c4fe6e6"
      },
      "source": [
        "print(df3['kol1'])"
      ],
      "execution_count": null,
      "outputs": [
        {
          "output_type": "stream",
          "name": "stdout",
          "text": [
            "0    T\n",
            "1    A\n",
            "2    B\n",
            "3    C\n",
            "Name: kol1, dtype: object\n"
          ]
        }
      ]
    },
    {
      "cell_type": "code",
      "metadata": {
        "colab": {
          "base_uri": "https://localhost:8080/"
        },
        "id": "V4fBx0e0DYuJ",
        "outputId": "4ec96542-494b-4104-8e17-1b276f1f7c85"
      },
      "source": [
        "print(df3.loc[1]['kol2'])"
      ],
      "execution_count": null,
      "outputs": [
        {
          "output_type": "stream",
          "name": "stdout",
          "text": [
            "55\n"
          ]
        }
      ]
    },
    {
      "cell_type": "code",
      "metadata": {
        "colab": {
          "base_uri": "https://localhost:8080/",
          "height": 172
        },
        "id": "Ojs0gQ0vEFdz",
        "outputId": "47c18c3f-633b-42e7-f1fd-4188160b7978"
      },
      "source": [
        "df3['kol4']=df3['kol2']*5\n",
        "df3"
      ],
      "execution_count": null,
      "outputs": [
        {
          "output_type": "execute_result",
          "data": {
            "text/html": [
              "<div>\n",
              "<style scoped>\n",
              "    .dataframe tbody tr th:only-of-type {\n",
              "        vertical-align: middle;\n",
              "    }\n",
              "\n",
              "    .dataframe tbody tr th {\n",
              "        vertical-align: top;\n",
              "    }\n",
              "\n",
              "    .dataframe thead th {\n",
              "        text-align: right;\n",
              "    }\n",
              "</style>\n",
              "<table border=\"1\" class=\"dataframe\">\n",
              "  <thead>\n",
              "    <tr style=\"text-align: right;\">\n",
              "      <th></th>\n",
              "      <th>kol1</th>\n",
              "      <th>kol2</th>\n",
              "      <th>kol3</th>\n",
              "      <th>kol4</th>\n",
              "    </tr>\n",
              "  </thead>\n",
              "  <tbody>\n",
              "    <tr>\n",
              "      <th>0</th>\n",
              "      <td>T</td>\n",
              "      <td>22</td>\n",
              "      <td>5677</td>\n",
              "      <td>110</td>\n",
              "    </tr>\n",
              "    <tr>\n",
              "      <th>1</th>\n",
              "      <td>A</td>\n",
              "      <td>55</td>\n",
              "      <td>666</td>\n",
              "      <td>275</td>\n",
              "    </tr>\n",
              "    <tr>\n",
              "      <th>2</th>\n",
              "      <td>B</td>\n",
              "      <td>66</td>\n",
              "      <td>6666</td>\n",
              "      <td>330</td>\n",
              "    </tr>\n",
              "    <tr>\n",
              "      <th>3</th>\n",
              "      <td>C</td>\n",
              "      <td>77</td>\n",
              "      <td>3224</td>\n",
              "      <td>385</td>\n",
              "    </tr>\n",
              "  </tbody>\n",
              "</table>\n",
              "</div>"
            ],
            "text/plain": [
              "  kol1  kol2  kol3  kol4\n",
              "0    T    22  5677   110\n",
              "1    A    55   666   275\n",
              "2    B    66  6666   330\n",
              "3    C    77  3224   385"
            ]
          },
          "metadata": {},
          "execution_count": 69
        }
      ]
    },
    {
      "cell_type": "code",
      "metadata": {
        "colab": {
          "base_uri": "https://localhost:8080/",
          "height": 172
        },
        "id": "_x4tFTl5EA2m",
        "outputId": "0184d6ca-82bf-4469-c887-353dcf0842fe"
      },
      "source": [
        "del(df3['kol4'])\n",
        "df3"
      ],
      "execution_count": null,
      "outputs": [
        {
          "output_type": "execute_result",
          "data": {
            "text/html": [
              "<div>\n",
              "<style scoped>\n",
              "    .dataframe tbody tr th:only-of-type {\n",
              "        vertical-align: middle;\n",
              "    }\n",
              "\n",
              "    .dataframe tbody tr th {\n",
              "        vertical-align: top;\n",
              "    }\n",
              "\n",
              "    .dataframe thead th {\n",
              "        text-align: right;\n",
              "    }\n",
              "</style>\n",
              "<table border=\"1\" class=\"dataframe\">\n",
              "  <thead>\n",
              "    <tr style=\"text-align: right;\">\n",
              "      <th></th>\n",
              "      <th>kol1</th>\n",
              "      <th>kol2</th>\n",
              "      <th>kol3</th>\n",
              "    </tr>\n",
              "  </thead>\n",
              "  <tbody>\n",
              "    <tr>\n",
              "      <th>0</th>\n",
              "      <td>T</td>\n",
              "      <td>22</td>\n",
              "      <td>5677</td>\n",
              "    </tr>\n",
              "    <tr>\n",
              "      <th>1</th>\n",
              "      <td>A</td>\n",
              "      <td>55</td>\n",
              "      <td>666</td>\n",
              "    </tr>\n",
              "    <tr>\n",
              "      <th>2</th>\n",
              "      <td>B</td>\n",
              "      <td>66</td>\n",
              "      <td>6666</td>\n",
              "    </tr>\n",
              "    <tr>\n",
              "      <th>3</th>\n",
              "      <td>C</td>\n",
              "      <td>77</td>\n",
              "      <td>3224</td>\n",
              "    </tr>\n",
              "  </tbody>\n",
              "</table>\n",
              "</div>"
            ],
            "text/plain": [
              "  kol1  kol2  kol3\n",
              "0    T    22  5677\n",
              "1    A    55   666\n",
              "2    B    66  6666\n",
              "3    C    77  3224"
            ]
          },
          "metadata": {},
          "execution_count": 70
        }
      ]
    },
    {
      "cell_type": "code",
      "metadata": {
        "colab": {
          "base_uri": "https://localhost:8080/"
        },
        "id": "-UflHru6E0gT",
        "outputId": "677b70a5-658a-4203-db5c-6a6f10b3c22a"
      },
      "source": [
        "df3.sum()"
      ],
      "execution_count": null,
      "outputs": [
        {
          "output_type": "execute_result",
          "data": {
            "text/plain": [
              "kol1     TABC\n",
              "kol2      220\n",
              "kol3    16233\n",
              "dtype: object"
            ]
          },
          "metadata": {},
          "execution_count": 71
        }
      ]
    },
    {
      "cell_type": "code",
      "metadata": {
        "colab": {
          "base_uri": "https://localhost:8080/"
        },
        "id": "Aq6ricoOE4QS",
        "outputId": "c908680b-3b88-414c-c71c-20e71158d7a1"
      },
      "source": [
        "df3.sum(1)"
      ],
      "execution_count": null,
      "outputs": [
        {
          "output_type": "execute_result",
          "data": {
            "text/plain": [
              "0    5699\n",
              "1     721\n",
              "2    6732\n",
              "3    3301\n",
              "dtype: int64"
            ]
          },
          "metadata": {},
          "execution_count": 72
        }
      ]
    },
    {
      "cell_type": "code",
      "metadata": {
        "colab": {
          "base_uri": "https://localhost:8080/",
          "height": 295
        },
        "id": "Zy0KpyNiE9U8",
        "outputId": "5e713827-47d1-4bad-8004-a63719e9a814"
      },
      "source": [
        "df3.describe()"
      ],
      "execution_count": null,
      "outputs": [
        {
          "output_type": "execute_result",
          "data": {
            "text/html": [
              "<div>\n",
              "<style scoped>\n",
              "    .dataframe tbody tr th:only-of-type {\n",
              "        vertical-align: middle;\n",
              "    }\n",
              "\n",
              "    .dataframe tbody tr th {\n",
              "        vertical-align: top;\n",
              "    }\n",
              "\n",
              "    .dataframe thead th {\n",
              "        text-align: right;\n",
              "    }\n",
              "</style>\n",
              "<table border=\"1\" class=\"dataframe\">\n",
              "  <thead>\n",
              "    <tr style=\"text-align: right;\">\n",
              "      <th></th>\n",
              "      <th>kol2</th>\n",
              "      <th>kol3</th>\n",
              "    </tr>\n",
              "  </thead>\n",
              "  <tbody>\n",
              "    <tr>\n",
              "      <th>count</th>\n",
              "      <td>4.000000</td>\n",
              "      <td>4.000000</td>\n",
              "    </tr>\n",
              "    <tr>\n",
              "      <th>mean</th>\n",
              "      <td>55.000000</td>\n",
              "      <td>4058.250000</td>\n",
              "    </tr>\n",
              "    <tr>\n",
              "      <th>std</th>\n",
              "      <td>23.762716</td>\n",
              "      <td>2684.774649</td>\n",
              "    </tr>\n",
              "    <tr>\n",
              "      <th>min</th>\n",
              "      <td>22.000000</td>\n",
              "      <td>666.000000</td>\n",
              "    </tr>\n",
              "    <tr>\n",
              "      <th>25%</th>\n",
              "      <td>46.750000</td>\n",
              "      <td>2584.500000</td>\n",
              "    </tr>\n",
              "    <tr>\n",
              "      <th>50%</th>\n",
              "      <td>60.500000</td>\n",
              "      <td>4450.500000</td>\n",
              "    </tr>\n",
              "    <tr>\n",
              "      <th>75%</th>\n",
              "      <td>68.750000</td>\n",
              "      <td>5924.250000</td>\n",
              "    </tr>\n",
              "    <tr>\n",
              "      <th>max</th>\n",
              "      <td>77.000000</td>\n",
              "      <td>6666.000000</td>\n",
              "    </tr>\n",
              "  </tbody>\n",
              "</table>\n",
              "</div>"
            ],
            "text/plain": [
              "            kol2         kol3\n",
              "count   4.000000     4.000000\n",
              "mean   55.000000  4058.250000\n",
              "std    23.762716  2684.774649\n",
              "min    22.000000   666.000000\n",
              "25%    46.750000  2584.500000\n",
              "50%    60.500000  4450.500000\n",
              "75%    68.750000  5924.250000\n",
              "max    77.000000  6666.000000"
            ]
          },
          "metadata": {},
          "execution_count": 73
        }
      ]
    },
    {
      "cell_type": "code",
      "metadata": {
        "colab": {
          "base_uri": "https://localhost:8080/"
        },
        "id": "TBgIU4fhFDnW",
        "outputId": "b9e7af21-712d-47f5-982a-ff7eef2413f1"
      },
      "source": [
        "#timery \n",
        "from datetime import date\n",
        "\n",
        "today = date.today()\n",
        "print('today is ', today)\n",
        "\n",
        "yesterday = 2021-11-10\n",
        "print('----------')\n",
        "all4 ={'kol1':['T','A','B'],'kol2': ['1985-03-24', '1990-04-24','2000-01-01']}\n",
        "df4 = pd.DataFrame(all4)\n",
        "print(df4)\n",
        "print('----------')\n",
        "print(df4['kol2'])\n",
        "print('----------')\n",
        "df4['kol2']=pd.to_datetime(df4['kol2'])\n",
        "print(df4['kol2'])"
      ],
      "execution_count": null,
      "outputs": [
        {
          "output_type": "stream",
          "name": "stdout",
          "text": [
            "today is  2021-11-11\n",
            "----------\n",
            "  kol1        kol2\n",
            "0    T  1985-03-24\n",
            "1    A  1990-04-24\n",
            "2    B  2000-01-01\n",
            "----------\n",
            "0    1985-03-24\n",
            "1    1990-04-24\n",
            "2    2000-01-01\n",
            "Name: kol2, dtype: object\n",
            "----------\n",
            "0   1985-03-24\n",
            "1   1990-04-24\n",
            "2   2000-01-01\n",
            "Name: kol2, dtype: datetime64[ns]\n"
          ]
        }
      ]
    },
    {
      "cell_type": "code",
      "metadata": {
        "colab": {
          "base_uri": "https://localhost:8080/"
        },
        "id": "oZSoiWJwaCoy",
        "outputId": "b0b8a0a8-c34a-4ede-dd38-3b4f345af879"
      },
      "source": [
        "!pip3 install python-dateutil"
      ],
      "execution_count": null,
      "outputs": [
        {
          "output_type": "stream",
          "name": "stdout",
          "text": [
            "Requirement already satisfied: python-dateutil in /usr/local/lib/python3.7/dist-packages (2.8.2)\n",
            "Requirement already satisfied: six>=1.5 in /usr/local/lib/python3.7/dist-packages (from python-dateutil) (1.15.0)\n"
          ]
        }
      ]
    },
    {
      "cell_type": "code",
      "metadata": {
        "colab": {
          "base_uri": "https://localhost:8080/",
          "height": 142
        },
        "id": "mZwXcWz9Xdzy",
        "outputId": "06e408df-8e4b-42c4-93e1-bb07129b0da4"
      },
      "source": [
        "import datetime\n",
        "from dateutil.relativedelta import relativedelta\n",
        "def getAge (birth):\n",
        "  time_difference = relativedelta(today,birth)\n",
        "  difference_in_years = time_difference.years\n",
        "  return difference_in_years \n",
        "\n",
        "\n",
        "df4['age'] = df4['kol2'].apply(getAge)\n",
        "df4"
      ],
      "execution_count": null,
      "outputs": [
        {
          "output_type": "execute_result",
          "data": {
            "text/html": [
              "<div>\n",
              "<style scoped>\n",
              "    .dataframe tbody tr th:only-of-type {\n",
              "        vertical-align: middle;\n",
              "    }\n",
              "\n",
              "    .dataframe tbody tr th {\n",
              "        vertical-align: top;\n",
              "    }\n",
              "\n",
              "    .dataframe thead th {\n",
              "        text-align: right;\n",
              "    }\n",
              "</style>\n",
              "<table border=\"1\" class=\"dataframe\">\n",
              "  <thead>\n",
              "    <tr style=\"text-align: right;\">\n",
              "      <th></th>\n",
              "      <th>kol1</th>\n",
              "      <th>kol2</th>\n",
              "      <th>age</th>\n",
              "    </tr>\n",
              "  </thead>\n",
              "  <tbody>\n",
              "    <tr>\n",
              "      <th>0</th>\n",
              "      <td>T</td>\n",
              "      <td>1985-03-24</td>\n",
              "      <td>36</td>\n",
              "    </tr>\n",
              "    <tr>\n",
              "      <th>1</th>\n",
              "      <td>A</td>\n",
              "      <td>1990-04-24</td>\n",
              "      <td>31</td>\n",
              "    </tr>\n",
              "    <tr>\n",
              "      <th>2</th>\n",
              "      <td>B</td>\n",
              "      <td>2000-01-01</td>\n",
              "      <td>21</td>\n",
              "    </tr>\n",
              "  </tbody>\n",
              "</table>\n",
              "</div>"
            ],
            "text/plain": [
              "  kol1       kol2  age\n",
              "0    T 1985-03-24   36\n",
              "1    A 1990-04-24   31\n",
              "2    B 2000-01-01   21"
            ]
          },
          "metadata": {},
          "execution_count": 76
        }
      ]
    },
    {
      "cell_type": "code",
      "metadata": {
        "colab": {
          "base_uri": "https://localhost:8080/"
        },
        "id": "U8tUg7ymbfyF",
        "outputId": "86dcd727-9b3a-426c-b847-14ba57057a82"
      },
      "source": [
        "#open fucntion\n",
        "path4='/content/drive/MyDrive/DS/PAD/PAD_02/some_strings.txt'\n",
        "myfile = open(path4, 'r')\n",
        "myread = myfile.read()\n",
        "myfile.close()\n",
        "print(myread)"
      ],
      "execution_count": null,
      "outputs": [
        {
          "output_type": "stream",
          "name": "stdout",
          "text": [
            "1 lorem ipsum lorem ipsum lorem ipsum \n",
            "2lorem ipsum lorem ipsum lorem ipsum \n",
            "3lorem ipsum lorem ipsum lorem ipsum \n",
            "4lorem ipsum lorem ipsum lorem ipsum \n",
            "5lorem ipsum lorem ipsum lorem ipsum \n",
            "6lorem ipsum lorem ipsum lorem ipsum \n",
            "7lorem ipsum lorem ipsum lorem ipsum \n"
          ]
        }
      ]
    },
    {
      "cell_type": "code",
      "metadata": {
        "colab": {
          "base_uri": "https://localhost:8080/"
        },
        "id": "AjA33jdcFseF",
        "outputId": "adc04ae1-c556-4905-fd16-a449fc3e68da"
      },
      "source": [
        "with open(path4,'r') as myfile2:\n",
        "  myread2 = myfile2.read()\n",
        "print(myread2)"
      ],
      "execution_count": null,
      "outputs": [
        {
          "output_type": "stream",
          "name": "stdout",
          "text": [
            "1 lorem ipsum lorem ipsum lorem ipsum \n",
            "2lorem ipsum lorem ipsum lorem ipsum \n",
            "3lorem ipsum lorem ipsum lorem ipsum \n",
            "4lorem ipsum lorem ipsum lorem ipsum \n",
            "5lorem ipsum lorem ipsum lorem ipsum \n",
            "6lorem ipsum lorem ipsum lorem ipsum \n",
            "7lorem ipsum lorem ipsum lorem ipsum \n"
          ]
        }
      ]
    },
    {
      "cell_type": "code",
      "metadata": {
        "id": "PVZ-ND38KNKU"
      },
      "source": [
        "with open(path4,'w') as myfile3:\n",
        "  newcontent = myfile3.write('tekst1')\n",
        "  print('tekst2', file=myfile3)"
      ],
      "execution_count": null,
      "outputs": []
    },
    {
      "cell_type": "code",
      "metadata": {
        "colab": {
          "base_uri": "https://localhost:8080/"
        },
        "id": "_9iqEl01Kq-B",
        "outputId": "d36e7b57-ad05-443d-ef11-537d0a5a0b2f"
      },
      "source": [
        "with open(path4,'r') as myfile3:\n",
        "  print(myfile3.read())"
      ],
      "execution_count": null,
      "outputs": [
        {
          "output_type": "stream",
          "name": "stdout",
          "text": [
            "tekst1tekst2\n",
            "\n"
          ]
        }
      ]
    },
    {
      "cell_type": "code",
      "metadata": {
        "id": "EVSPWfaNLC-0"
      },
      "source": [
        "import csv"
      ],
      "execution_count": null,
      "outputs": []
    },
    {
      "cell_type": "code",
      "metadata": {
        "colab": {
          "base_uri": "https://localhost:8080/"
        },
        "id": "nWUzoaZwzK2l",
        "outputId": "f0abcb05-1d4a-4d7e-d25f-86cfccb6f47c"
      },
      "source": [
        "path5='/content/drive/MyDrive/DS/PAD/PAD_02/cust_list.csv'\n",
        "with open(path5, 'r') as csf:\n",
        "  dict_reader = csv.DictReader(csf, delimiter=';')\n",
        "  print(next(dict_reader))"
      ],
      "execution_count": null,
      "outputs": [
        {
          "output_type": "stream",
          "name": "stdout",
          "text": [
            "OrderedDict([('k1', 'Tom'), ('k2', '22'), ('k3', 'True'), ('h4', 'ih234')])\n"
          ]
        }
      ]
    },
    {
      "cell_type": "code",
      "metadata": {
        "colab": {
          "base_uri": "https://localhost:8080/"
        },
        "id": "tImj-Pds27Zk",
        "outputId": "255951ab-a486-403b-cfa4-8b1afa283fc5"
      },
      "source": [
        "with open(path5, 'r') as csf:\n",
        "  dict_reader = csv.DictReader(csf, delimiter=';')\n",
        "  #print(dict(next(dict_reader)))\n",
        "  #print(dict(next(dict_reader)))\n",
        "  #print(dict(next(dict_reader)))\n",
        "  #print(dict(next(dict_reader)))\n",
        "  for row in dict_reader:\n",
        "    print(dict(row))\n"
      ],
      "execution_count": null,
      "outputs": [
        {
          "output_type": "stream",
          "name": "stdout",
          "text": [
            "{'k1': 'Tom', 'k2': '22', 'k3': 'True', 'h4': 'ih234'}\n",
            "{'k1': 'Ana', 'k2': '44', 'k3': 'False', 'h4': 'jh665'}\n",
            "{'k1': 'Max', 'k2': '55', 'k3': 'True', 'h4': 'kl455'}\n",
            "{'k1': '', 'k2': '', 'k3': '', 'h4': 'uo999'}\n"
          ]
        }
      ]
    },
    {
      "cell_type": "code",
      "metadata": {
        "colab": {
          "base_uri": "https://localhost:8080/",
          "height": 172
        },
        "id": "X5EK-ulk5yQy",
        "outputId": "753a14d8-f99e-401a-e9e8-c1df30b1a172"
      },
      "source": [
        "import pandas as pd\n",
        "df6 = pd.read_csv(path5, sep=';')\n",
        "df6"
      ],
      "execution_count": null,
      "outputs": [
        {
          "output_type": "execute_result",
          "data": {
            "text/html": [
              "<div>\n",
              "<style scoped>\n",
              "    .dataframe tbody tr th:only-of-type {\n",
              "        vertical-align: middle;\n",
              "    }\n",
              "\n",
              "    .dataframe tbody tr th {\n",
              "        vertical-align: top;\n",
              "    }\n",
              "\n",
              "    .dataframe thead th {\n",
              "        text-align: right;\n",
              "    }\n",
              "</style>\n",
              "<table border=\"1\" class=\"dataframe\">\n",
              "  <thead>\n",
              "    <tr style=\"text-align: right;\">\n",
              "      <th></th>\n",
              "      <th>k1</th>\n",
              "      <th>k2</th>\n",
              "      <th>k3</th>\n",
              "      <th>h4</th>\n",
              "    </tr>\n",
              "  </thead>\n",
              "  <tbody>\n",
              "    <tr>\n",
              "      <th>0</th>\n",
              "      <td>Tom</td>\n",
              "      <td>22.0</td>\n",
              "      <td>True</td>\n",
              "      <td>ih234</td>\n",
              "    </tr>\n",
              "    <tr>\n",
              "      <th>1</th>\n",
              "      <td>Ana</td>\n",
              "      <td>44.0</td>\n",
              "      <td>False</td>\n",
              "      <td>jh665</td>\n",
              "    </tr>\n",
              "    <tr>\n",
              "      <th>2</th>\n",
              "      <td>Max</td>\n",
              "      <td>55.0</td>\n",
              "      <td>True</td>\n",
              "      <td>kl455</td>\n",
              "    </tr>\n",
              "    <tr>\n",
              "      <th>3</th>\n",
              "      <td>NaN</td>\n",
              "      <td>NaN</td>\n",
              "      <td>NaN</td>\n",
              "      <td>uo999</td>\n",
              "    </tr>\n",
              "  </tbody>\n",
              "</table>\n",
              "</div>"
            ],
            "text/plain": [
              "    k1    k2     k3     h4\n",
              "0  Tom  22.0   True  ih234\n",
              "1  Ana  44.0  False  jh665\n",
              "2  Max  55.0   True  kl455\n",
              "3  NaN   NaN    NaN  uo999"
            ]
          },
          "metadata": {},
          "execution_count": 16
        }
      ]
    },
    {
      "cell_type": "code",
      "metadata": {
        "colab": {
          "base_uri": "https://localhost:8080/"
        },
        "id": "XJpScgZx7rM-",
        "outputId": "a7591b7c-fdb3-47bd-dd70-4d1d53d018b6"
      },
      "source": [
        "df6['k1']"
      ],
      "execution_count": null,
      "outputs": [
        {
          "output_type": "execute_result",
          "data": {
            "text/plain": [
              "0    Tom\n",
              "1    Ana\n",
              "2    Max\n",
              "3    NaN\n",
              "Name: k1, dtype: object"
            ]
          },
          "metadata": {},
          "execution_count": 20
        }
      ]
    },
    {
      "cell_type": "code",
      "metadata": {
        "colab": {
          "base_uri": "https://localhost:8080/"
        },
        "id": "we4P9wr477sv",
        "outputId": "a27c68de-e48f-4f98-b098-311f4c45fe7d"
      },
      "source": [
        "df6.loc[1,['k2','k3']]"
      ],
      "execution_count": null,
      "outputs": [
        {
          "output_type": "execute_result",
          "data": {
            "text/plain": [
              "k2       44\n",
              "k3    False\n",
              "Name: 1, dtype: object"
            ]
          },
          "metadata": {},
          "execution_count": 24
        }
      ]
    },
    {
      "cell_type": "code",
      "metadata": {
        "colab": {
          "base_uri": "https://localhost:8080/"
        },
        "id": "zueGP0hm8eVN",
        "outputId": "d91c48a4-fcb0-4c50-9a0f-7564fa5e6b18"
      },
      "source": [
        "df6.iloc[1,1:3]"
      ],
      "execution_count": null,
      "outputs": [
        {
          "output_type": "execute_result",
          "data": {
            "text/plain": [
              "k2       44\n",
              "k3    False\n",
              "Name: 1, dtype: object"
            ]
          },
          "metadata": {},
          "execution_count": 26
        }
      ]
    },
    {
      "cell_type": "code",
      "metadata": {
        "colab": {
          "base_uri": "https://localhost:8080/",
          "height": 110
        },
        "id": "xwQZKMC78mgR",
        "outputId": "98f59cac-68c5-4972-e67f-f2fe1cef6146"
      },
      "source": [
        "#fancy indexing\n",
        "df6[df6['k2']>40]"
      ],
      "execution_count": null,
      "outputs": [
        {
          "output_type": "execute_result",
          "data": {
            "text/html": [
              "<div>\n",
              "<style scoped>\n",
              "    .dataframe tbody tr th:only-of-type {\n",
              "        vertical-align: middle;\n",
              "    }\n",
              "\n",
              "    .dataframe tbody tr th {\n",
              "        vertical-align: top;\n",
              "    }\n",
              "\n",
              "    .dataframe thead th {\n",
              "        text-align: right;\n",
              "    }\n",
              "</style>\n",
              "<table border=\"1\" class=\"dataframe\">\n",
              "  <thead>\n",
              "    <tr style=\"text-align: right;\">\n",
              "      <th></th>\n",
              "      <th>k1</th>\n",
              "      <th>k2</th>\n",
              "      <th>k3</th>\n",
              "      <th>h4</th>\n",
              "    </tr>\n",
              "  </thead>\n",
              "  <tbody>\n",
              "    <tr>\n",
              "      <th>1</th>\n",
              "      <td>Ana</td>\n",
              "      <td>44.0</td>\n",
              "      <td>False</td>\n",
              "      <td>jh665</td>\n",
              "    </tr>\n",
              "    <tr>\n",
              "      <th>2</th>\n",
              "      <td>Max</td>\n",
              "      <td>55.0</td>\n",
              "      <td>True</td>\n",
              "      <td>kl455</td>\n",
              "    </tr>\n",
              "  </tbody>\n",
              "</table>\n",
              "</div>"
            ],
            "text/plain": [
              "    k1    k2     k3     h4\n",
              "1  Ana  44.0  False  jh665\n",
              "2  Max  55.0   True  kl455"
            ]
          },
          "metadata": {},
          "execution_count": 28
        }
      ]
    },
    {
      "cell_type": "code",
      "metadata": {
        "colab": {
          "base_uri": "https://localhost:8080/",
          "height": 172
        },
        "id": "OHyARjlY9E6j",
        "outputId": "0c315435-670b-4458-c832-dd16e29fccfb"
      },
      "source": [
        "#braki danych\n",
        "df6['k2']=df6['k2'].fillna(df6['k2'].mean())\n",
        "df6\n"
      ],
      "execution_count": null,
      "outputs": [
        {
          "output_type": "execute_result",
          "data": {
            "text/html": [
              "<div>\n",
              "<style scoped>\n",
              "    .dataframe tbody tr th:only-of-type {\n",
              "        vertical-align: middle;\n",
              "    }\n",
              "\n",
              "    .dataframe tbody tr th {\n",
              "        vertical-align: top;\n",
              "    }\n",
              "\n",
              "    .dataframe thead th {\n",
              "        text-align: right;\n",
              "    }\n",
              "</style>\n",
              "<table border=\"1\" class=\"dataframe\">\n",
              "  <thead>\n",
              "    <tr style=\"text-align: right;\">\n",
              "      <th></th>\n",
              "      <th>k1</th>\n",
              "      <th>k2</th>\n",
              "      <th>k3</th>\n",
              "      <th>h4</th>\n",
              "    </tr>\n",
              "  </thead>\n",
              "  <tbody>\n",
              "    <tr>\n",
              "      <th>0</th>\n",
              "      <td>Tom</td>\n",
              "      <td>22.000000</td>\n",
              "      <td>True</td>\n",
              "      <td>ih234</td>\n",
              "    </tr>\n",
              "    <tr>\n",
              "      <th>1</th>\n",
              "      <td>Ana</td>\n",
              "      <td>44.000000</td>\n",
              "      <td>False</td>\n",
              "      <td>jh665</td>\n",
              "    </tr>\n",
              "    <tr>\n",
              "      <th>2</th>\n",
              "      <td>Max</td>\n",
              "      <td>55.000000</td>\n",
              "      <td>True</td>\n",
              "      <td>kl455</td>\n",
              "    </tr>\n",
              "    <tr>\n",
              "      <th>3</th>\n",
              "      <td>NaN</td>\n",
              "      <td>40.333333</td>\n",
              "      <td>NaN</td>\n",
              "      <td>uo999</td>\n",
              "    </tr>\n",
              "  </tbody>\n",
              "</table>\n",
              "</div>"
            ],
            "text/plain": [
              "    k1         k2     k3     h4\n",
              "0  Tom  22.000000   True  ih234\n",
              "1  Ana  44.000000  False  jh665\n",
              "2  Max  55.000000   True  kl455\n",
              "3  NaN  40.333333    NaN  uo999"
            ]
          },
          "metadata": {},
          "execution_count": 33
        }
      ]
    },
    {
      "cell_type": "code",
      "metadata": {
        "colab": {
          "base_uri": "https://localhost:8080/"
        },
        "id": "dGKkqQp3-m55",
        "outputId": "42992e36-04ae-4457-f534-bfb29135c9d7"
      },
      "source": [
        "#braki danych\n",
        "df6['k3'].fillna(df6['k3'].mean())\n"
      ],
      "execution_count": null,
      "outputs": [
        {
          "output_type": "execute_result",
          "data": {
            "text/plain": [
              "0        True\n",
              "1       False\n",
              "2        True\n",
              "3    0.666667\n",
              "Name: k3, dtype: object"
            ]
          },
          "metadata": {},
          "execution_count": 35
        }
      ]
    },
    {
      "cell_type": "code",
      "metadata": {
        "id": "qh2RkDym-4Rw"
      },
      "source": [
        "# imputacja - zastępowanie wartości na za pomoca specjalnie do tego wytrenowanego modelu "
      ],
      "execution_count": null,
      "outputs": []
    },
    {
      "cell_type": "code",
      "metadata": {
        "colab": {
          "base_uri": "https://localhost:8080/",
          "height": 172
        },
        "id": "nxMboeon_KYK",
        "outputId": "d0658b8d-ed30-405a-a2d2-d17e0b46ab70"
      },
      "source": [
        "df7 = df6.drop(columns =['h4'], axis=1)\n",
        "df7"
      ],
      "execution_count": null,
      "outputs": [
        {
          "output_type": "execute_result",
          "data": {
            "text/html": [
              "<div>\n",
              "<style scoped>\n",
              "    .dataframe tbody tr th:only-of-type {\n",
              "        vertical-align: middle;\n",
              "    }\n",
              "\n",
              "    .dataframe tbody tr th {\n",
              "        vertical-align: top;\n",
              "    }\n",
              "\n",
              "    .dataframe thead th {\n",
              "        text-align: right;\n",
              "    }\n",
              "</style>\n",
              "<table border=\"1\" class=\"dataframe\">\n",
              "  <thead>\n",
              "    <tr style=\"text-align: right;\">\n",
              "      <th></th>\n",
              "      <th>k1</th>\n",
              "      <th>k2</th>\n",
              "      <th>k3</th>\n",
              "    </tr>\n",
              "  </thead>\n",
              "  <tbody>\n",
              "    <tr>\n",
              "      <th>0</th>\n",
              "      <td>Tom</td>\n",
              "      <td>22.000000</td>\n",
              "      <td>True</td>\n",
              "    </tr>\n",
              "    <tr>\n",
              "      <th>1</th>\n",
              "      <td>Ana</td>\n",
              "      <td>44.000000</td>\n",
              "      <td>False</td>\n",
              "    </tr>\n",
              "    <tr>\n",
              "      <th>2</th>\n",
              "      <td>Max</td>\n",
              "      <td>55.000000</td>\n",
              "      <td>True</td>\n",
              "    </tr>\n",
              "    <tr>\n",
              "      <th>3</th>\n",
              "      <td>NaN</td>\n",
              "      <td>40.333333</td>\n",
              "      <td>NaN</td>\n",
              "    </tr>\n",
              "  </tbody>\n",
              "</table>\n",
              "</div>"
            ],
            "text/plain": [
              "    k1         k2     k3\n",
              "0  Tom  22.000000   True\n",
              "1  Ana  44.000000  False\n",
              "2  Max  55.000000   True\n",
              "3  NaN  40.333333    NaN"
            ]
          },
          "metadata": {},
          "execution_count": 38
        }
      ]
    },
    {
      "cell_type": "code",
      "metadata": {
        "colab": {
          "base_uri": "https://localhost:8080/"
        },
        "id": "4_KU5yDtAw1c",
        "outputId": "87055b69-0dbf-4f05-f4a8-a35211edd425"
      },
      "source": [
        "#grupowanie \n",
        "df6.groupby(by='k3')['k2'].mean()\n",
        "#df6.groupby(by='k3')['k2','inna_kolumna'].mean() przykład dla wielu kolumn"
      ],
      "execution_count": null,
      "outputs": [
        {
          "output_type": "execute_result",
          "data": {
            "text/plain": [
              "k3\n",
              "False    44.0\n",
              "True     38.5\n",
              "Name: k2, dtype: float64"
            ]
          },
          "metadata": {},
          "execution_count": 40
        }
      ]
    },
    {
      "cell_type": "code",
      "metadata": {
        "colab": {
          "base_uri": "https://localhost:8080/",
          "height": 142
        },
        "id": "eH48mrGoB1dU",
        "outputId": "724460cb-b6f5-4d3f-9244-a98008a09999"
      },
      "source": [
        "#tabela przestawna\n",
        "pd.pivot_table(df6, values='k2',index='k3')"
      ],
      "execution_count": null,
      "outputs": [
        {
          "output_type": "execute_result",
          "data": {
            "text/html": [
              "<div>\n",
              "<style scoped>\n",
              "    .dataframe tbody tr th:only-of-type {\n",
              "        vertical-align: middle;\n",
              "    }\n",
              "\n",
              "    .dataframe tbody tr th {\n",
              "        vertical-align: top;\n",
              "    }\n",
              "\n",
              "    .dataframe thead th {\n",
              "        text-align: right;\n",
              "    }\n",
              "</style>\n",
              "<table border=\"1\" class=\"dataframe\">\n",
              "  <thead>\n",
              "    <tr style=\"text-align: right;\">\n",
              "      <th></th>\n",
              "      <th>k2</th>\n",
              "    </tr>\n",
              "    <tr>\n",
              "      <th>k3</th>\n",
              "      <th></th>\n",
              "    </tr>\n",
              "  </thead>\n",
              "  <tbody>\n",
              "    <tr>\n",
              "      <th>False</th>\n",
              "      <td>44.0</td>\n",
              "    </tr>\n",
              "    <tr>\n",
              "      <th>True</th>\n",
              "      <td>38.5</td>\n",
              "    </tr>\n",
              "  </tbody>\n",
              "</table>\n",
              "</div>"
            ],
            "text/plain": [
              "         k2\n",
              "k3         \n",
              "False  44.0\n",
              "True   38.5"
            ]
          },
          "metadata": {},
          "execution_count": 41
        }
      ]
    }
  ]
}