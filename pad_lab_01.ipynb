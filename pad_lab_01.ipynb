{
  "nbformat": 4,
  "nbformat_minor": 0,
  "metadata": {
    "colab": {
      "name": "pad_lab_01.ipynb",
      "provenance": [],
      "include_colab_link": true
    },
    "kernelspec": {
      "name": "python3",
      "display_name": "Python 3"
    },
    "language_info": {
      "name": "python"
    }
  },
  "cells": [
    {
      "cell_type": "markdown",
      "metadata": {
        "id": "view-in-github",
        "colab_type": "text"
      },
      "source": [
        "<a href=\"https://colab.research.google.com/github/s23912/pad_practicals/blob/main/pad_lab_01.ipynb\" target=\"_parent\"><img src=\"https://colab.research.google.com/assets/colab-badge.svg\" alt=\"Open In Colab\"/></a>"
      ]
    },
    {
      "cell_type": "code",
      "metadata": {
        "id": "0cMBYJx049IE"
      },
      "source": [
        "#LAB 01\n"
      ],
      "execution_count": null,
      "outputs": []
    },
    {
      "cell_type": "code",
      "metadata": {
        "colab": {
          "base_uri": "https://localhost:8080/"
        },
        "id": "1BgNSOlo5KwJ",
        "outputId": "a88cca89-2280-4a9a-d333-75a0baadf9cc"
      },
      "source": [
        "def pithagoras(a,b):\n",
        "  c_sqrt = a**2 + b**2\n",
        "  c=c_sqrt ** 0.5\n",
        "  return c\n",
        "round(pithagoras(2,3),2)"
      ],
      "execution_count": null,
      "outputs": [
        {
          "output_type": "execute_result",
          "data": {
            "text/plain": [
              "3.61"
            ]
          },
          "metadata": {},
          "execution_count": 5
        }
      ]
    },
    {
      "cell_type": "code",
      "metadata": {
        "id": "7dVNOaAa6GjA"
      },
      "source": [
        "class square:\n",
        "  def __init__(self, side):\n",
        "    self.side=side\n",
        "    self.area=None\n",
        "    self.circuference=None\n",
        "  def getArea(self):\n",
        "    self.area=self.side**2\n",
        "  def getCircuference(self):\n",
        "    self.circuference=self.side*4\n",
        "  "
      ],
      "execution_count": null,
      "outputs": []
    },
    {
      "cell_type": "code",
      "metadata": {
        "colab": {
          "base_uri": "https://localhost:8080/"
        },
        "id": "Az0jGXY-7R_F",
        "outputId": "dc183e9b-c0b4-4db9-f6bb-06b1c6e2e1a1"
      },
      "source": [
        "kwadrat=square(2)\n",
        "kwadrat.__dict__"
      ],
      "execution_count": null,
      "outputs": [
        {
          "output_type": "execute_result",
          "data": {
            "text/plain": [
              "{'area': None, 'circuference': None, 'side': 2}"
            ]
          },
          "metadata": {},
          "execution_count": 12
        }
      ]
    },
    {
      "cell_type": "code",
      "metadata": {
        "colab": {
          "base_uri": "https://localhost:8080/"
        },
        "id": "KjxmDIHZ7cjh",
        "outputId": "e8e28149-2ecb-48dc-daac-22850f2f689f"
      },
      "source": [
        "kwadrat.getArea()\n",
        "kwadrat.getCircuference()\n",
        "kwadrat.__dict__"
      ],
      "execution_count": null,
      "outputs": [
        {
          "output_type": "execute_result",
          "data": {
            "text/plain": [
              "{'area': 4, 'circuference': 8, 'side': 2}"
            ]
          },
          "metadata": {},
          "execution_count": 13
        }
      ]
    },
    {
      "cell_type": "code",
      "metadata": {
        "colab": {
          "base_uri": "https://localhost:8080/"
        },
        "id": "p4iKP2x58NgQ",
        "outputId": "86a4a38e-c058-46a0-bfc6-72ec873a2b98"
      },
      "source": [
        "class figure():\n",
        "  pass\n",
        "class circle(figure):\n",
        "  pass\n",
        "class rectangle():\n",
        "  def __init__(self,sideA,sideB):\n",
        "    self.sideA = sideA\n",
        "    self.sideB = sideB\n",
        "class square2(rectangle):\n",
        "  def __init__(self,side):\n",
        "    super().__init__(side, side)\n",
        "\n",
        "kwdr = square2(3)\n",
        "kwdr.__dict__"
      ],
      "execution_count": null,
      "outputs": [
        {
          "output_type": "execute_result",
          "data": {
            "text/plain": [
              "{'sideA': 3, 'sideB': 3}"
            ]
          },
          "metadata": {},
          "execution_count": 17
        }
      ]
    },
    {
      "cell_type": "code",
      "metadata": {
        "colab": {
          "base_uri": "https://localhost:8080/"
        },
        "id": "-Pl3O2lo-Uik",
        "outputId": "15e8373b-301a-44b1-dda6-8b6831345b83"
      },
      "source": [
        "custom_range=[1,2,3,4,5,6]\n",
        "def get_range(input_range):\n",
        "  i=0\n",
        "  while i< len(input_range):\n",
        "    yield input_range[i]\n",
        "    i=i+1\n",
        "count = get_range(custom_range)\n",
        "print(next(count))\n",
        "print(next(count))\n",
        "\n"
      ],
      "execution_count": null,
      "outputs": [
        {
          "output_type": "stream",
          "name": "stdout",
          "text": [
            "1\n",
            "2\n"
          ]
        }
      ]
    },
    {
      "cell_type": "code",
      "metadata": {
        "colab": {
          "base_uri": "https://localhost:8080/"
        },
        "id": "tqWT14Z0BZCF",
        "outputId": "186e42ca-1256-40fb-9bcc-77c9b708c573"
      },
      "source": [
        "print(next(count))\n"
      ],
      "execution_count": null,
      "outputs": [
        {
          "output_type": "stream",
          "name": "stdout",
          "text": [
            "3\n"
          ]
        }
      ]
    },
    {
      "cell_type": "code",
      "metadata": {
        "colab": {
          "base_uri": "https://localhost:8080/"
        },
        "id": "Oul0Fc06BtR8",
        "outputId": "399e159a-f183-4c37-c58c-dd155e5ddeda"
      },
      "source": [
        "list(range(0,10,2))"
      ],
      "execution_count": null,
      "outputs": [
        {
          "output_type": "execute_result",
          "data": {
            "text/plain": [
              "[0, 2, 4, 6, 8]"
            ]
          },
          "metadata": {},
          "execution_count": 50
        }
      ]
    },
    {
      "cell_type": "code",
      "metadata": {
        "colab": {
          "base_uri": "https://localhost:8080/"
        },
        "id": "_4CQ5DbXB__K",
        "outputId": "d8317a8a-ef37-4067-a8bf-1397515a3ebb"
      },
      "source": [
        "Jan ={'name': 'Jan','age':44 ,'blood':'A' ,'isSick':True}\n",
        "Ana ={'name': 'Ana', 'age':33 ,'blood':'B' ,'isSick':False}\n",
        "Tom ={'name':'Tom','age':27 ,'blood':'AB' ,'isSick':False}\n",
        "John ={'age':23 ,'blood':'0' ,'isSick':True}\n",
        "\n",
        "dic_out = {'01':Jan, '02': Ana, '03': Tom, '04':John}\n",
        "dic_out"
      ],
      "execution_count": null,
      "outputs": [
        {
          "output_type": "execute_result",
          "data": {
            "text/plain": [
              "{'01': {'age': 44, 'blood': 'A', 'isSick': True, 'name': 'Jan'},\n",
              " '02': {'age': 33, 'blood': 'B', 'isSick': False, 'name': 'Ana'},\n",
              " '03': {'age': 27, 'blood': 'AB', 'isSick': False, 'name': 'Tom'},\n",
              " '04': {'age': 23, 'blood': '0', 'isSick': True}}"
            ]
          },
          "metadata": {},
          "execution_count": 8
        }
      ]
    },
    {
      "cell_type": "code",
      "metadata": {
        "colab": {
          "base_uri": "https://localhost:8080/"
        },
        "id": "6UVPcLNomMDx",
        "outputId": "f5a99654-98bf-4ffc-8aed-98cd72eb3dea"
      },
      "source": [
        "dic_out['02']"
      ],
      "execution_count": null,
      "outputs": [
        {
          "output_type": "execute_result",
          "data": {
            "text/plain": [
              "{'age': 33, 'blood': 'B', 'isSick': False, 'name': 'Ana'}"
            ]
          },
          "metadata": {},
          "execution_count": 9
        }
      ]
    },
    {
      "cell_type": "code",
      "metadata": {
        "colab": {
          "base_uri": "https://localhost:8080/"
        },
        "id": "WUA8Z4Z7ma7E",
        "outputId": "1d165600-ee80-4198-c424-89e92b3f60e7"
      },
      "source": [
        "def get_greeting(my_dic):\n",
        "  name = my_dic['name']\n",
        "  age = my_dic['age']\n",
        "  if my_dic['isSick']==True:\n",
        "    return \"Hello \"+str(name)+', you are sick. You are :' + str(age)\n",
        "  else:\n",
        "    return \"You are ok, \"+ str(name)\n",
        "\n",
        "print(get_greeting(dic_out['01']))\n",
        "print(get_greeting(dic_out['02']))\n"
      ],
      "execution_count": null,
      "outputs": [
        {
          "output_type": "stream",
          "name": "stdout",
          "text": [
            "Hello Jan, you are sick. You are :44\n",
            "You are ok, Ana\n"
          ]
        }
      ]
    }
  ]
}