{
  "nbformat": 4,
  "nbformat_minor": 0,
  "metadata": {
    "colab": {
      "name": "pad_homework_01.ipynb",
      "provenance": [],
      "collapsed_sections": [],
      "include_colab_link": true
    },
    "kernelspec": {
      "name": "python3",
      "display_name": "Python 3"
    },
    "language_info": {
      "name": "python"
    }
  },
  "cells": [
    {
      "cell_type": "markdown",
      "metadata": {
        "id": "view-in-github",
        "colab_type": "text"
      },
      "source": [
        "<a href=\"https://colab.research.google.com/github/s23912/pad_practicals/blob/main/pad_homework_01.ipynb\" target=\"_parent\"><img src=\"https://colab.research.google.com/assets/colab-badge.svg\" alt=\"Open In Colab\"/></a>"
      ]
    },
    {
      "cell_type": "code",
      "metadata": {
        "id": "POdWCpTcUYmi"
      },
      "source": [
        "class animal():\n",
        "  def __init__(self,genus, gender ='Female' ):\n",
        "    self.isAlive = True\n",
        "    self.genus = genus\n",
        "    self.gender = gender\n",
        "  def breed (self, partner):\n",
        "    print('first if')\n",
        "    print('self.gender: ',self.gender)\n",
        "    print('partner.gender: ', partner.gender)\n",
        "    print('self.genus: ', self.genus)\n",
        "    print('partner genus', partner.genus)\n",
        "    if (self.gender == 'Female' and partner.gender =='Male' and self.genus==partner.genus):\n",
        "      print('warunek spełniony')\n",
        "      if type(self)=='dog':\n",
        "        print(type(self))\n",
        "        \n",
        "\n",
        "\n",
        "   # if (self.gender == 'Female' and partner.gender=='Male' and self.genus == partner.genus):\n",
        "    #  print('second iteration and everythins seems to be ok')\n",
        "     # if type(self)=='dog':\n",
        "     #   return dog()\n",
        "    #  elif type(self)=='cat':\n",
        "      #  return cat()\n",
        "\n"
      ],
      "execution_count": null,
      "outputs": []
    },
    {
      "cell_type": "code",
      "metadata": {
        "id": "d6SgBt9mWKSV"
      },
      "source": [
        "class dog(animal):\n",
        "  def __init__(self,gender='Female'):\n",
        "    super().__init__( 'Canis', gender)\n",
        "  def woof(self):\n",
        "    return 'woof woof'\n",
        "\n",
        "\n",
        "class cat(animal):\n",
        "  def __init__(self, gender='Female'):\n",
        "    super().__init_-('Felis',gender)\n",
        "  def purr(self):\n",
        "    return 'purr'"
      ],
      "execution_count": null,
      "outputs": []
    },
    {
      "cell_type": "code",
      "metadata": {
        "colab": {
          "base_uri": "https://localhost:8080/"
        },
        "id": "1-uJIRxQXe9Q",
        "outputId": "2faf3d01-b1f8-4cee-fde9-4ced739c7d40"
      },
      "source": [
        "dogMale = dog('Male')\n",
        "dogFemale = dog()\n",
        "dogMale.__dict__"
      ],
      "execution_count": null,
      "outputs": [
        {
          "output_type": "execute_result",
          "data": {
            "text/plain": [
              "{'gender': 'Male', 'genus': 'Canis', 'isAlive': True}"
            ]
          },
          "metadata": {},
          "execution_count": 50
        }
      ]
    },
    {
      "cell_type": "code",
      "metadata": {
        "colab": {
          "base_uri": "https://localhost:8080/"
        },
        "id": "uumlXz9lZlkW",
        "outputId": "3b2d476f-34ad-4587-ca42-dc9fa8461ebb"
      },
      "source": [
        "dogFemale.__dict__"
      ],
      "execution_count": null,
      "outputs": [
        {
          "output_type": "execute_result",
          "data": {
            "text/plain": [
              "{'gender': 'Female', 'genus': 'Canis', 'isAlive': True}"
            ]
          },
          "metadata": {},
          "execution_count": 51
        }
      ]
    },
    {
      "cell_type": "code",
      "metadata": {
        "colab": {
          "base_uri": "https://localhost:8080/",
          "height": 35
        },
        "id": "jDgrBf2hZpba",
        "outputId": "619ed51c-ee66-415d-d021-ccc6939c0828"
      },
      "source": [
        "dogFemale.woof()"
      ],
      "execution_count": null,
      "outputs": [
        {
          "output_type": "execute_result",
          "data": {
            "application/vnd.google.colaboratory.intrinsic+json": {
              "type": "string"
            },
            "text/plain": [
              "'woof woof'"
            ]
          },
          "metadata": {},
          "execution_count": 52
        }
      ]
    },
    {
      "cell_type": "code",
      "metadata": {
        "colab": {
          "base_uri": "https://localhost:8080/"
        },
        "id": "nmJRZGtzeyTq",
        "outputId": "bc7a22e3-82e7-42ad-be3e-0c611bc1e13b"
      },
      "source": [
        "dogFemale.breed(dogMale)\n",
        "\n"
      ],
      "execution_count": null,
      "outputs": [
        {
          "output_type": "stream",
          "name": "stdout",
          "text": [
            "first if\n",
            "self.gender:  Female\n",
            "partner.gender:  Male\n",
            "self.genus:  Canis\n",
            "partner genus Canis\n",
            "warunek spełniony\n"
          ]
        }
      ]
    }
  ]
}